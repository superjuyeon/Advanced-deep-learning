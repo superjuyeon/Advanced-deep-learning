{
  "nbformat": 4,
  "nbformat_minor": 0,
  "metadata": {
    "colab": {
      "name": "HW02_20211190_JuyeonKim.ipynb",
      "provenance": [],
      "collapsed_sections": []
    },
    "kernelspec": {
      "name": "python3",
      "display_name": "Python 3"
    },
    "language_info": {
      "name": "python"
    },
    "accelerator": "GPU"
  },
  "cells": [
    {
      "cell_type": "code",
      "metadata": {
        "id": "mGS_aIpzcixu"
      },
      "source": [
        "# 필요 모듈 import\n",
        "from keras.datasets import reuters\n",
        "from tensorflow import keras\n",
        "import numpy as np\n",
        "from keras.utils.np_utils import to_categorical\n",
        "from keras import models\n",
        "from keras import layers\n",
        "import copy\n",
        "import matplotlib.pyplot as plt\n",
        "from tensorflow.keras import optimizers\n",
        "\n",
        "\n",
        "from keras.callbacks import ModelCheckpoint, EarlyStopping"
      ],
      "execution_count": 1,
      "outputs": []
    },
    {
      "cell_type": "code",
      "metadata": {
        "id": "IyCDj5tTDWoE"
      },
      "source": [
        "# graph function\n",
        "def graph():\n",
        "    plt.figure(figsize = (12,4))\n",
        "    \n",
        "    plt.subplot(1,2,1)\n",
        "    plt.plot(history.history['loss'], 'b-', label = 'loss')\n",
        "    plt.plot(history.history['val_loss'], 'y--', label = 'val_loss')\n",
        "    plt.xlabel('Epoch')\n",
        "    plt.legend()\n",
        "\n",
        "    plt.subplot(1,2,2)\n",
        "    plt.plot(history.history['accuracy'], 'g-', label = 'acc')\n",
        "    plt.plot(history.history['val_accuracy'], 'r--', label = 'val_acc')\n",
        "    plt.xlabel('Epoch')\n",
        "    plt.ylim([0.7, 1])\n",
        "    plt.legend()\n",
        "\n",
        "    return plt.show()"
      ],
      "execution_count": 2,
      "outputs": []
    },
    {
      "cell_type": "markdown",
      "metadata": {
        "id": "fyr07AqCcvfY"
      },
      "source": [
        "Loading dataset & Check dataset"
      ]
    },
    {
      "cell_type": "code",
      "metadata": {
        "id": "XOCVTmSccp3v"
      },
      "source": [
        "(train_data, train_labels), (test_data, test_labels) = reuters.load_data(num_words=10000)"
      ],
      "execution_count": 3,
      "outputs": []
    },
    {
      "cell_type": "markdown",
      "metadata": {
        "id": "Y3_rEn0We5MX"
      },
      "source": [
        "Prepare the data (One-hot encoding)"
      ]
    },
    {
      "cell_type": "code",
      "metadata": {
        "id": "eU1qIw_Fjde3"
      },
      "source": [
        "def vectorize_sequences(sequences, dimension=10000):\n",
        "    results = np.zeros((len(sequences), dimension))\n",
        "    for i, sequence in enumerate(sequences):\n",
        "        results[i, sequence] = 1.\n",
        "    return results\n",
        "# Our vectorized training data\n",
        "x_train = vectorize_sequences(train_data)\n",
        "# Our vectorized test data\n",
        "x_test = vectorize_sequences(test_data)\n",
        "\n",
        "one_hot_train_labels = to_categorical(train_labels)\n",
        "one_hot_test_labels = to_categorical(test_labels)"
      ],
      "execution_count": 4,
      "outputs": []
    },
    {
      "cell_type": "code",
      "metadata": {
        "id": "xHYatIvuKYfK"
      },
      "source": [
        "x_val = x_train[:1000]\n",
        "partial_x_train = x_train[1000:]\n",
        "y_val = one_hot_train_labels[:1000]\n",
        "partial_y_train = one_hot_train_labels[1000:]"
      ],
      "execution_count": 5,
      "outputs": []
    },
    {
      "cell_type": "code",
      "metadata": {
        "id": "TZQt-y8tOsBt"
      },
      "source": [
        "# Test data\n",
        "# Encoding the labels as integer arrays\n",
        "y_train = np.array(train_labels)\n",
        "y_test = np.array(test_labels)"
      ],
      "execution_count": 6,
      "outputs": []
    },
    {
      "cell_type": "markdown",
      "metadata": {
        "id": "4rZLzxjjjxFM"
      },
      "source": [
        "## 0. Baseline\n",
        "- Hidden layer : 2\n",
        "- Optimizer : rmsprop\n",
        "- Loss : categorical_crossentropy\n",
        "- Metrics : accuracy\n",
        "- Activation : relu\n",
        "- Learning rate : 0.001\n",
        "- Epochs : 20\n",
        "- Batch_size : 512\n",
        "- Early stopping, check point\n",
        "\n",
        "#### Result > loss: 1.0355 - accuracy: 0.7903"
      ]
    },
    {
      "cell_type": "code",
      "metadata": {
        "colab": {
          "base_uri": "https://localhost:8080/"
        },
        "id": "lDLZUx1DjnN3",
        "outputId": "0f415a84-9243-4f57-f1d5-a689702fe7b5"
      },
      "source": [
        "model = models.Sequential()\n",
        "model.add(layers.Dense(64, activation='relu', input_shape=(10000,)))\n",
        "model.add(layers.Dense(64, activation='relu'))\n",
        "model.add(layers.Dense(46, activation='softmax'))\n",
        "\n",
        "model.compile(optimizer=optimizers.RMSprop(learning_rate=0.001),\n",
        "loss='categorical_crossentropy',\n",
        "metrics=['accuracy'])\n",
        "\n",
        "checkpoint_path = './check.h5'\n",
        "\n",
        "cp = ModelCheckpoint(filepath=checkpoint_path,\n",
        "                                save_weights_only=True,\n",
        "                                save_best_only=True,\n",
        "                                monitor='val_accuracy',\n",
        "                                verbose=1)\n",
        "\n",
        "es = EarlyStopping(monitor='val_loss', patience=3)\n",
        "\n",
        "history = model.fit(partial_x_train,\n",
        "partial_y_train,\n",
        "epochs=20,\n",
        "batch_size=512,\n",
        "validation_data=(x_val, y_val),\n",
        "callbacks=[cp, es])"
      ],
      "execution_count": 21,
      "outputs": [
        {
          "output_type": "stream",
          "name": "stdout",
          "text": [
            "Epoch 1/20\n",
            "16/16 [==============================] - 1s 33ms/step - loss: 2.7124 - accuracy: 0.5174 - val_loss: 1.7656 - val_accuracy: 0.6540\n",
            "\n",
            "Epoch 00001: val_accuracy improved from -inf to 0.65400, saving model to ./check.h5\n",
            "Epoch 2/20\n",
            "16/16 [==============================] - 0s 16ms/step - loss: 1.4397 - accuracy: 0.7091 - val_loss: 1.3425 - val_accuracy: 0.7020\n",
            "\n",
            "Epoch 00002: val_accuracy improved from 0.65400 to 0.70200, saving model to ./check.h5\n",
            "Epoch 3/20\n",
            "16/16 [==============================] - 0s 17ms/step - loss: 1.0674 - accuracy: 0.7756 - val_loss: 1.1565 - val_accuracy: 0.7540\n",
            "\n",
            "Epoch 00003: val_accuracy improved from 0.70200 to 0.75400, saving model to ./check.h5\n",
            "Epoch 4/20\n",
            "16/16 [==============================] - 0s 17ms/step - loss: 0.8473 - accuracy: 0.8257 - val_loss: 1.0503 - val_accuracy: 0.7760\n",
            "\n",
            "Epoch 00004: val_accuracy improved from 0.75400 to 0.77600, saving model to ./check.h5\n",
            "Epoch 5/20\n",
            "16/16 [==============================] - 0s 16ms/step - loss: 0.6687 - accuracy: 0.8601 - val_loss: 0.9830 - val_accuracy: 0.7990\n",
            "\n",
            "Epoch 00005: val_accuracy improved from 0.77600 to 0.79900, saving model to ./check.h5\n",
            "Epoch 6/20\n",
            "16/16 [==============================] - 0s 17ms/step - loss: 0.5391 - accuracy: 0.8861 - val_loss: 0.9340 - val_accuracy: 0.8060\n",
            "\n",
            "Epoch 00006: val_accuracy improved from 0.79900 to 0.80600, saving model to ./check.h5\n",
            "Epoch 7/20\n",
            "16/16 [==============================] - 0s 16ms/step - loss: 0.4270 - accuracy: 0.9104 - val_loss: 0.9090 - val_accuracy: 0.8080\n",
            "\n",
            "Epoch 00007: val_accuracy improved from 0.80600 to 0.80800, saving model to ./check.h5\n",
            "Epoch 8/20\n",
            "16/16 [==============================] - 0s 17ms/step - loss: 0.3540 - accuracy: 0.9256 - val_loss: 0.9148 - val_accuracy: 0.8050\n",
            "\n",
            "Epoch 00008: val_accuracy did not improve from 0.80800\n",
            "Epoch 9/20\n",
            "16/16 [==============================] - 0s 17ms/step - loss: 0.2892 - accuracy: 0.9366 - val_loss: 0.8811 - val_accuracy: 0.8170\n",
            "\n",
            "Epoch 00009: val_accuracy improved from 0.80800 to 0.81700, saving model to ./check.h5\n",
            "Epoch 10/20\n",
            "16/16 [==============================] - 0s 16ms/step - loss: 0.2410 - accuracy: 0.9454 - val_loss: 0.9056 - val_accuracy: 0.8200\n",
            "\n",
            "Epoch 00010: val_accuracy improved from 0.81700 to 0.82000, saving model to ./check.h5\n",
            "Epoch 11/20\n",
            "16/16 [==============================] - 0s 16ms/step - loss: 0.2090 - accuracy: 0.9478 - val_loss: 0.8964 - val_accuracy: 0.8150\n",
            "\n",
            "Epoch 00011: val_accuracy did not improve from 0.82000\n",
            "Epoch 12/20\n",
            "16/16 [==============================] - 0s 16ms/step - loss: 0.1837 - accuracy: 0.9519 - val_loss: 0.9326 - val_accuracy: 0.8230\n",
            "\n",
            "Epoch 00012: val_accuracy improved from 0.82000 to 0.82300, saving model to ./check.h5\n"
          ]
        }
      ]
    },
    {
      "cell_type": "code",
      "metadata": {
        "colab": {
          "base_uri": "https://localhost:8080/",
          "height": 300
        },
        "id": "SKcma095LT3F",
        "outputId": "4679f976-ffcc-4e94-e9ac-a844734e6d92"
      },
      "source": [
        "# Result\n",
        "model.load_weights(checkpoint_path)\n",
        "results = model.evaluate(x_test, one_hot_test_labels)\n",
        "\n",
        "graph()"
      ],
      "execution_count": 22,
      "outputs": [
        {
          "output_type": "stream",
          "name": "stdout",
          "text": [
            "71/71 [==============================] - 0s 4ms/step - loss: 1.0355 - accuracy: 0.7903\n"
          ]
        },
        {
          "output_type": "display_data",
          "data": {
            "image/png": "[encoded data removed]",
            "text/plain": [
              "<Figure size 864x288 with 2 Axes>"
            ]
          },
          "metadata": {
            "needs_background": "light"
          }
        }
      ]
    },
    {
      "cell_type": "markdown",
      "metadata": {
        "id": "XBctBKgWtvpy"
      },
      "source": [
        "## 1-1. Reduce hidden layer\n",
        "- Hidden layer : ***1***\n",
        "- Optimizer : rmsprop\n",
        "- Loss : categorical_crossentropy\n",
        "- Metrics : accuracy\n",
        "- Activation : relu\n",
        "- Learning rate : 0.001\n",
        "- Epochs : 20\n",
        "- Batch_size : 512\n",
        "- Early stopping, check point\n",
        "\n",
        "#### Result > loss: 0.9109 - accuracy: 0.8019"
      ]
    },
    {
      "cell_type": "code",
      "metadata": {
        "colab": {
          "base_uri": "https://localhost:8080/"
        },
        "id": "dYfuZHEqtw5w",
        "outputId": "6ecb9908-fae3-446b-ec48-c3b0f43cc90d"
      },
      "source": [
        "model = models.Sequential()\n",
        "model.add(layers.Dense(64, activation='relu', input_shape=(10000,)))\n",
        "model.add(layers.Dense(46, activation='softmax'))\n",
        "\n",
        "model.compile(optimizer=optimizers.RMSprop(learning_rate=0.001),\n",
        "loss='categorical_crossentropy',\n",
        "metrics=['accuracy'])\n",
        "\n",
        "checkpoint_path = './check1.h5'\n",
        "\n",
        "cp = ModelCheckpoint(filepath=checkpoint_path,\n",
        "                                save_weights_only=True,\n",
        "                                save_best_only=True,\n",
        "                                monitor='val_accuracy',\n",
        "                                verbose=1)\n",
        "\n",
        "es = EarlyStopping(monitor='val_loss', patience=3)\n",
        "\n",
        "history = model.fit(partial_x_train,\n",
        "partial_y_train,\n",
        "epochs=20,\n",
        "batch_size=512,\n",
        "validation_data=(x_val, y_val),\n",
        "callbacks=[cp, es])"
      ],
      "execution_count": 19,
      "outputs": [
        {
          "output_type": "stream",
          "name": "stdout",
          "text": [
            "Epoch 1/20\n",
            "16/16 [==============================] - 1s 50ms/step - loss: 2.5394 - accuracy: 0.5529 - val_loss: 1.7899 - val_accuracy: 0.6550\n",
            "\n",
            "Epoch 00001: val_accuracy improved from -inf to 0.65500, saving model to ./check1.h5\n",
            "Epoch 2/20\n",
            "16/16 [==============================] - 0s 16ms/step - loss: 1.4463 - accuracy: 0.7191 - val_loss: 1.3346 - val_accuracy: 0.7210\n",
            "\n",
            "Epoch 00002: val_accuracy improved from 0.65500 to 0.72100, saving model to ./check1.h5\n",
            "Epoch 3/20\n",
            "16/16 [==============================] - 0s 17ms/step - loss: 1.0567 - accuracy: 0.7853 - val_loss: 1.1349 - val_accuracy: 0.7740\n",
            "\n",
            "Epoch 00003: val_accuracy improved from 0.72100 to 0.77400, saving model to ./check1.h5\n",
            "Epoch 4/20\n",
            "16/16 [==============================] - 0s 16ms/step - loss: 0.8264 - accuracy: 0.8297 - val_loss: 1.0216 - val_accuracy: 0.7930\n",
            "\n",
            "Epoch 00004: val_accuracy improved from 0.77400 to 0.79300, saving model to ./check1.h5\n",
            "Epoch 5/20\n",
            "16/16 [==============================] - 0s 16ms/step - loss: 0.6647 - accuracy: 0.8696 - val_loss: 0.9493 - val_accuracy: 0.8040\n",
            "\n",
            "Epoch 00005: val_accuracy improved from 0.79300 to 0.80400, saving model to ./check1.h5\n",
            "Epoch 6/20\n",
            "16/16 [==============================] - 0s 16ms/step - loss: 0.5426 - accuracy: 0.8938 - val_loss: 0.8976 - val_accuracy: 0.8180\n",
            "\n",
            "Epoch 00006: val_accuracy improved from 0.80400 to 0.81800, saving model to ./check1.h5\n",
            "Epoch 7/20\n",
            "16/16 [==============================] - 0s 16ms/step - loss: 0.4461 - accuracy: 0.9117 - val_loss: 0.8648 - val_accuracy: 0.8180\n",
            "\n",
            "Epoch 00007: val_accuracy did not improve from 0.81800\n",
            "Epoch 8/20\n",
            "16/16 [==============================] - 0s 19ms/step - loss: 0.3721 - accuracy: 0.9247 - val_loss: 0.8487 - val_accuracy: 0.8200\n",
            "\n",
            "Epoch 00008: val_accuracy improved from 0.81800 to 0.82000, saving model to ./check1.h5\n",
            "Epoch 9/20\n",
            "16/16 [==============================] - 0s 16ms/step - loss: 0.3135 - accuracy: 0.9340 - val_loss: 0.8375 - val_accuracy: 0.8240\n",
            "\n",
            "Epoch 00009: val_accuracy improved from 0.82000 to 0.82400, saving model to ./check1.h5\n",
            "Epoch 10/20\n",
            "16/16 [==============================] - 0s 17ms/step - loss: 0.2663 - accuracy: 0.9410 - val_loss: 0.8422 - val_accuracy: 0.8210\n",
            "\n",
            "Epoch 00010: val_accuracy did not improve from 0.82400\n",
            "Epoch 11/20\n",
            "16/16 [==============================] - 0s 16ms/step - loss: 0.2309 - accuracy: 0.9463 - val_loss: 0.8309 - val_accuracy: 0.8240\n",
            "\n",
            "Epoch 00011: val_accuracy did not improve from 0.82400\n",
            "Epoch 12/20\n",
            "16/16 [==============================] - 0s 16ms/step - loss: 0.2014 - accuracy: 0.9503 - val_loss: 0.8343 - val_accuracy: 0.8320\n",
            "\n",
            "Epoch 00012: val_accuracy improved from 0.82400 to 0.83200, saving model to ./check1.h5\n",
            "Epoch 13/20\n",
            "16/16 [==============================] - 0s 16ms/step - loss: 0.1789 - accuracy: 0.9519 - val_loss: 0.8647 - val_accuracy: 0.8180\n",
            "\n",
            "Epoch 00013: val_accuracy did not improve from 0.83200\n",
            "Epoch 14/20\n",
            "16/16 [==============================] - 0s 16ms/step - loss: 0.1632 - accuracy: 0.9545 - val_loss: 0.8640 - val_accuracy: 0.8180\n",
            "\n",
            "Epoch 00014: val_accuracy did not improve from 0.83200\n"
          ]
        }
      ]
    },
    {
      "cell_type": "code",
      "metadata": {
        "colab": {
          "base_uri": "https://localhost:8080/",
          "height": 300
        },
        "id": "4DUDPvVStv_u",
        "outputId": "4e800600-dfa4-444d-e27b-76b7844e4305"
      },
      "source": [
        "model.load_weights('./check1.h5')\n",
        "results = model.evaluate(x_test, one_hot_test_labels)\n",
        "\n",
        "graph()"
      ],
      "execution_count": 20,
      "outputs": [
        {
          "output_type": "stream",
          "name": "stdout",
          "text": [
            "71/71 [==============================] - 0s 4ms/step - loss: 0.9109 - accuracy: 0.8019\n"
          ]
        },
        {
          "output_type": "display_data",
          "data": {
            "image/png": "[encoded data removed]",
            "text/plain": [
              "<Figure size 864x288 with 2 Axes>"
            ]
          },
          "metadata": {
            "needs_background": "light"
          }
        }
      ]
    },
    {
      "cell_type": "markdown",
      "metadata": {
        "id": "6lNthgamP5mV"
      },
      "source": [
        "## 1-2. Add hidden layer\n",
        "- Hidden layer : ***5***\n",
        "- Optimizer : rmsprop\n",
        "- Loss : binary_crossentropy\n",
        "- Metrics : accuracy\n",
        "- Activation : relu\n",
        "- Learning rate : 0.001\n",
        "- Epochs : 20\n",
        "- Batch_size : 512\n",
        "- Early stopping, check point\n",
        "\n",
        "#### Result > loss: 1.1738 - accuracy: 0.7680"
      ]
    },
    {
      "cell_type": "code",
      "metadata": {
        "colab": {
          "base_uri": "https://localhost:8080/"
        },
        "id": "PyTLwAtMP2he",
        "outputId": "ce851715-adda-41be-9f51-ef62ca61cc10"
      },
      "source": [
        "model = models.Sequential()\n",
        "model.add(layers.Dense(64, activation='relu', input_shape=(10000,)))\n",
        "model.add(layers.Dense(64, activation='relu'))\n",
        "model.add(layers.Dense(64, activation='relu'))\n",
        "model.add(layers.Dense(64, activation='relu'))\n",
        "model.add(layers.Dense(46, activation='softmax'))\n",
        "\n",
        "model.compile(optimizer=optimizers.RMSprop(learning_rate=0.001),\n",
        "loss='categorical_crossentropy',\n",
        "metrics=['accuracy'])\n",
        "\n",
        "cp = ModelCheckpoint(filepath='./check1.h5',\n",
        "                                save_weights_only=True,\n",
        "                                save_best_only=True,\n",
        "                                monitor='val_accuracy',\n",
        "                                verbose=1)\n",
        "\n",
        "es = EarlyStopping(monitor='val_loss', patience=3)\n",
        "\n",
        "history = model.fit(partial_x_train,\n",
        "partial_y_train,\n",
        "epochs=20,\n",
        "batch_size=512,\n",
        "validation_data=(x_val, y_val),\n",
        "callbacks=[cp, es])"
      ],
      "execution_count": 23,
      "outputs": [
        {
          "output_type": "stream",
          "name": "stdout",
          "text": [
            "Epoch 1/20\n",
            "16/16 [==============================] - 1s 33ms/step - loss: 2.7696 - accuracy: 0.4164 - val_loss: 1.7954 - val_accuracy: 0.5930\n",
            "\n",
            "Epoch 00001: val_accuracy improved from -inf to 0.59300, saving model to ./check1.h5\n",
            "Epoch 2/20\n",
            "16/16 [==============================] - 0s 17ms/step - loss: 1.5717 - accuracy: 0.6339 - val_loss: 1.4512 - val_accuracy: 0.6550\n",
            "\n",
            "Epoch 00002: val_accuracy improved from 0.59300 to 0.65500, saving model to ./check1.h5\n",
            "Epoch 3/20\n",
            "16/16 [==============================] - 0s 17ms/step - loss: 1.1972 - accuracy: 0.7301 - val_loss: 1.2794 - val_accuracy: 0.7070\n",
            "\n",
            "Epoch 00003: val_accuracy improved from 0.65500 to 0.70700, saving model to ./check1.h5\n",
            "Epoch 4/20\n",
            "16/16 [==============================] - 0s 18ms/step - loss: 0.9578 - accuracy: 0.7846 - val_loss: 1.1462 - val_accuracy: 0.7510\n",
            "\n",
            "Epoch 00004: val_accuracy improved from 0.70700 to 0.75100, saving model to ./check1.h5\n",
            "Epoch 5/20\n",
            "16/16 [==============================] - 0s 18ms/step - loss: 0.7834 - accuracy: 0.8178 - val_loss: 1.0624 - val_accuracy: 0.7660\n",
            "\n",
            "Epoch 00005: val_accuracy improved from 0.75100 to 0.76600, saving model to ./check1.h5\n",
            "Epoch 6/20\n",
            "16/16 [==============================] - 0s 18ms/step - loss: 0.6240 - accuracy: 0.8503 - val_loss: 1.1139 - val_accuracy: 0.7570\n",
            "\n",
            "Epoch 00006: val_accuracy did not improve from 0.76600\n",
            "Epoch 7/20\n",
            "16/16 [==============================] - 0s 18ms/step - loss: 0.5300 - accuracy: 0.8735 - val_loss: 1.0641 - val_accuracy: 0.7690\n",
            "\n",
            "Epoch 00007: val_accuracy improved from 0.76600 to 0.76900, saving model to ./check1.h5\n",
            "Epoch 8/20\n",
            "16/16 [==============================] - 0s 17ms/step - loss: 0.4173 - accuracy: 0.9070 - val_loss: 1.0611 - val_accuracy: 0.7930\n",
            "\n",
            "Epoch 00008: val_accuracy improved from 0.76900 to 0.79300, saving model to ./check1.h5\n",
            "Epoch 9/20\n",
            "16/16 [==============================] - 0s 17ms/step - loss: 0.3621 - accuracy: 0.9226 - val_loss: 1.0625 - val_accuracy: 0.7940\n",
            "\n",
            "Epoch 00009: val_accuracy improved from 0.79300 to 0.79400, saving model to ./check1.h5\n",
            "Epoch 10/20\n",
            "16/16 [==============================] - 0s 17ms/step - loss: 0.2940 - accuracy: 0.9347 - val_loss: 1.0983 - val_accuracy: 0.7940\n",
            "\n",
            "Epoch 00010: val_accuracy did not improve from 0.79400\n",
            "Epoch 11/20\n",
            "16/16 [==============================] - 0s 17ms/step - loss: 0.2481 - accuracy: 0.9442 - val_loss: 1.1479 - val_accuracy: 0.7930\n",
            "\n",
            "Epoch 00011: val_accuracy did not improve from 0.79400\n"
          ]
        }
      ]
    },
    {
      "cell_type": "code",
      "metadata": {
        "colab": {
          "base_uri": "https://localhost:8080/",
          "height": 300
        },
        "id": "lsZignWtP2ex",
        "outputId": "b289d6bc-f26f-43e9-a90a-90e3077fb544"
      },
      "source": [
        "model.load_weights('./check1.h5')\n",
        "results = model.evaluate(x_test, one_hot_test_labels)\n",
        "\n",
        "graph()"
      ],
      "execution_count": 24,
      "outputs": [
        {
          "output_type": "stream",
          "name": "stdout",
          "text": [
            "71/71 [==============================] - 0s 4ms/step - loss: 1.1738 - accuracy: 0.7680\n"
          ]
        },
        {
          "output_type": "display_data",
          "data": {
            "image/png": "[encoded data removed]",
            "text/plain": [
              "<Figure size 864x288 with 2 Axes>"
            ]
          },
          "metadata": {
            "needs_background": "light"
          }
        }
      ]
    },
    {
      "cell_type": "markdown",
      "metadata": {
        "id": "gMjS4UasUXSU"
      },
      "source": [
        "## 1-3. Add hidden layer + Change hidden units\n",
        "- Hidden layer : ***5 + Change hidden units***\n",
        "- Optimizer : rmsprop\n",
        "- Loss : binary_crossentropy\n",
        "- Metrics : accuracy\n",
        "- Activation : relu\n",
        "- Learning rate : 0.001\n",
        "- Epochs : 20\n",
        "- Batch_size : 512\n",
        "- Early stopping, check point\n",
        "\n",
        "#### Result > loss: 1.2032 - accuracy: 0.8054"
      ]
    },
    {
      "cell_type": "code",
      "metadata": {
        "id": "I9_-NED4LTyn",
        "colab": {
          "base_uri": "https://localhost:8080/"
        },
        "outputId": "5d079d98-5b92-4221-b89b-fa0b9ccb7282"
      },
      "source": [
        "model = models.Sequential()\n",
        "model.add(layers.Dense(5000, activation='relu', input_shape=(10000,)))\n",
        "model.add(layers.Dense(1000, activation='relu'))\n",
        "model.add(layers.Dense(500, activation='relu'))\n",
        "model.add(layers.Dense(100, activation='relu'))\n",
        "model.add(layers.Dense(46, activation='softmax'))\n",
        "\n",
        "model.compile(optimizer=optimizers.RMSprop(learning_rate=0.001),\n",
        "loss='categorical_crossentropy',\n",
        "metrics=['accuracy'])\n",
        "\n",
        "cp = ModelCheckpoint(filepath='./check2.h5',\n",
        "                                save_weights_only=True,\n",
        "                                save_best_only=True,\n",
        "                                monitor='val_accuracy',\n",
        "                                verbose=1)\n",
        "\n",
        "es = EarlyStopping(monitor='val_loss', patience=5)\n",
        "\n",
        "history = model.fit(partial_x_train,\n",
        "partial_y_train,\n",
        "epochs=20,\n",
        "batch_size=512,\n",
        "validation_data=(x_val, y_val),\n",
        "callbacks=[cp, es])"
      ],
      "execution_count": 25,
      "outputs": [
        {
          "output_type": "stream",
          "name": "stdout",
          "text": [
            "Epoch 1/20\n",
            "16/16 [==============================] - 3s 119ms/step - loss: 2.3425 - accuracy: 0.4565 - val_loss: 1.5701 - val_accuracy: 0.6670\n",
            "\n",
            "Epoch 00001: val_accuracy improved from -inf to 0.66700, saving model to ./check2.h5\n",
            "Epoch 2/20\n",
            "16/16 [==============================] - 1s 94ms/step - loss: 1.1890 - accuracy: 0.7167 - val_loss: 1.4483 - val_accuracy: 0.6500\n",
            "\n",
            "Epoch 00002: val_accuracy did not improve from 0.66700\n",
            "Epoch 3/20\n",
            "16/16 [==============================] - 1s 94ms/step - loss: 0.7686 - accuracy: 0.8171 - val_loss: 0.9547 - val_accuracy: 0.7870\n",
            "\n",
            "Epoch 00003: val_accuracy improved from 0.66700 to 0.78700, saving model to ./check2.h5\n",
            "Epoch 4/20\n",
            "16/16 [==============================] - 2s 94ms/step - loss: 0.6683 - accuracy: 0.8463 - val_loss: 0.9276 - val_accuracy: 0.8200\n",
            "\n",
            "Epoch 00004: val_accuracy improved from 0.78700 to 0.82000, saving model to ./check2.h5\n",
            "Epoch 5/20\n",
            "16/16 [==============================] - 1s 94ms/step - loss: 0.2699 - accuracy: 0.9339 - val_loss: 1.0168 - val_accuracy: 0.8040\n",
            "\n",
            "Epoch 00005: val_accuracy did not improve from 0.82000\n",
            "Epoch 6/20\n",
            "16/16 [==============================] - 2s 94ms/step - loss: 0.1949 - accuracy: 0.9515 - val_loss: 1.2472 - val_accuracy: 0.7900\n",
            "\n",
            "Epoch 00006: val_accuracy did not improve from 0.82000\n",
            "Epoch 7/20\n",
            "16/16 [==============================] - 1s 94ms/step - loss: 0.2293 - accuracy: 0.9382 - val_loss: 1.0937 - val_accuracy: 0.8080\n",
            "\n",
            "Epoch 00007: val_accuracy did not improve from 0.82000\n",
            "Epoch 8/20\n",
            "16/16 [==============================] - 1s 94ms/step - loss: 0.1342 - accuracy: 0.9555 - val_loss: 1.7966 - val_accuracy: 0.5980\n",
            "\n",
            "Epoch 00008: val_accuracy did not improve from 0.82000\n",
            "Epoch 9/20\n",
            "16/16 [==============================] - 2s 96ms/step - loss: 0.3543 - accuracy: 0.8973 - val_loss: 1.0154 - val_accuracy: 0.8290\n",
            "\n",
            "Epoch 00009: val_accuracy improved from 0.82000 to 0.82900, saving model to ./check2.h5\n"
          ]
        }
      ]
    },
    {
      "cell_type": "code",
      "metadata": {
        "colab": {
          "base_uri": "https://localhost:8080/",
          "height": 300
        },
        "id": "wPwSQbpKVVPc",
        "outputId": "69c0d68f-139b-425e-e43a-60217c5f3aff"
      },
      "source": [
        "model.load_weights('./check2.h5')\n",
        "results = model.evaluate(x_test, one_hot_test_labels)\n",
        "\n",
        "graph()"
      ],
      "execution_count": 26,
      "outputs": [
        {
          "output_type": "stream",
          "name": "stdout",
          "text": [
            "71/71 [==============================] - 1s 8ms/step - loss: 1.2032 - accuracy: 0.8054\n"
          ]
        },
        {
          "output_type": "display_data",
          "data": {
            "image/png": "[encoded data removed]",
            "text/plain": [
              "<Figure size 864x288 with 2 Axes>"
            ]
          },
          "metadata": {
            "needs_background": "light"
          }
        }
      ]
    },
    {
      "cell_type": "markdown",
      "metadata": {
        "id": "Zp1A_TPHe89y"
      },
      "source": [
        "## 2. Change optimizer\n",
        "- Hidden layer : 2\n",
        "- Optimizer : ***adam***\n",
        "- Loss : binary_crossentropy\n",
        "- Metrics : accuracy\n",
        "- Activation : relu\n",
        "- Learning rate : 0.001\n",
        "- Epochs : 20\n",
        "- Batch_size : 512\n",
        "- Early stopping, check point\n",
        "\n",
        "#### Result > loss: 1.0572 - accuracy: 0.7898\n"
      ]
    },
    {
      "cell_type": "code",
      "metadata": {
        "colab": {
          "base_uri": "https://localhost:8080/"
        },
        "id": "GMIzmxMkVu2r",
        "outputId": "36ec9934-6f4f-468f-f8aa-4b201c4715dc"
      },
      "source": [
        "model = models.Sequential()\n",
        "model.add(layers.Dense(64, activation='relu', input_shape=(10000,)))\n",
        "model.add(layers.Dense(64, activation='relu'))\n",
        "model.add(layers.Dense(46, activation='softmax'))\n",
        "\n",
        "model.compile(optimizer=optimizers.Adam(learning_rate=0.001),\n",
        "loss='categorical_crossentropy',\n",
        "metrics=['accuracy'])\n",
        "\n",
        "checkpoint_path = './check4.h5'\n",
        "\n",
        "cp = ModelCheckpoint(filepath=checkpoint_path,\n",
        "                                save_weights_only=True,\n",
        "                                save_best_only=True,\n",
        "                                monitor='val_accuracy',\n",
        "                                verbose=1)\n",
        "\n",
        "es = EarlyStopping(monitor='val_loss', patience=5)\n",
        "\n",
        "history = model.fit(partial_x_train,\n",
        "partial_y_train,\n",
        "epochs=100,\n",
        "batch_size=512,\n",
        "validation_data=(x_val, y_val),\n",
        "callbacks=[cp, es])"
      ],
      "execution_count": 33,
      "outputs": [
        {
          "output_type": "stream",
          "name": "stdout",
          "text": [
            "Epoch 1/100\n",
            "16/16 [==============================] - 1s 32ms/step - loss: 3.4140 - accuracy: 0.3852 - val_loss: 2.6965 - val_accuracy: 0.5350\n",
            "\n",
            "Epoch 00001: val_accuracy improved from -inf to 0.53500, saving model to ./check4.h5\n",
            "Epoch 2/100\n",
            "16/16 [==============================] - 0s 17ms/step - loss: 2.1184 - accuracy: 0.5960 - val_loss: 1.6805 - val_accuracy: 0.6520\n",
            "\n",
            "Epoch 00002: val_accuracy improved from 0.53500 to 0.65200, saving model to ./check4.h5\n",
            "Epoch 3/100\n",
            "16/16 [==============================] - 0s 16ms/step - loss: 1.3871 - accuracy: 0.7045 - val_loss: 1.3316 - val_accuracy: 0.7000\n",
            "\n",
            "Epoch 00003: val_accuracy improved from 0.65200 to 0.70000, saving model to ./check4.h5\n",
            "Epoch 4/100\n",
            "16/16 [==============================] - 0s 16ms/step - loss: 1.0590 - accuracy: 0.7675 - val_loss: 1.1568 - val_accuracy: 0.7500\n",
            "\n",
            "Epoch 00004: val_accuracy improved from 0.70000 to 0.75000, saving model to ./check4.h5\n",
            "Epoch 5/100\n",
            "16/16 [==============================] - 0s 16ms/step - loss: 0.8366 - accuracy: 0.8145 - val_loss: 1.0516 - val_accuracy: 0.7840\n",
            "\n",
            "Epoch 00005: val_accuracy improved from 0.75000 to 0.78400, saving model to ./check4.h5\n",
            "Epoch 6/100\n",
            "16/16 [==============================] - 0s 17ms/step - loss: 0.6566 - accuracy: 0.8607 - val_loss: 0.9767 - val_accuracy: 0.7990\n",
            "\n",
            "Epoch 00006: val_accuracy improved from 0.78400 to 0.79900, saving model to ./check4.h5\n",
            "Epoch 7/100\n",
            "16/16 [==============================] - 0s 16ms/step - loss: 0.5090 - accuracy: 0.8964 - val_loss: 0.9364 - val_accuracy: 0.8080\n",
            "\n",
            "Epoch 00007: val_accuracy improved from 0.79900 to 0.80800, saving model to ./check4.h5\n",
            "Epoch 8/100\n",
            "16/16 [==============================] - 0s 16ms/step - loss: 0.3943 - accuracy: 0.9196 - val_loss: 0.9098 - val_accuracy: 0.8220\n",
            "\n",
            "Epoch 00008: val_accuracy improved from 0.80800 to 0.82200, saving model to ./check4.h5\n",
            "Epoch 9/100\n",
            "16/16 [==============================] - 0s 18ms/step - loss: 0.3117 - accuracy: 0.9322 - val_loss: 0.9027 - val_accuracy: 0.8220\n",
            "\n",
            "Epoch 00009: val_accuracy did not improve from 0.82200\n",
            "Epoch 10/100\n",
            "16/16 [==============================] - 0s 16ms/step - loss: 0.2519 - accuracy: 0.9453 - val_loss: 0.9008 - val_accuracy: 0.8190\n",
            "\n",
            "Epoch 00010: val_accuracy did not improve from 0.82200\n",
            "Epoch 11/100\n",
            "16/16 [==============================] - 0s 16ms/step - loss: 0.2079 - accuracy: 0.9490 - val_loss: 0.9144 - val_accuracy: 0.8190\n",
            "\n",
            "Epoch 00011: val_accuracy did not improve from 0.82200\n",
            "Epoch 12/100\n",
            "16/16 [==============================] - 0s 17ms/step - loss: 0.1768 - accuracy: 0.9529 - val_loss: 0.9408 - val_accuracy: 0.8180\n",
            "\n",
            "Epoch 00012: val_accuracy did not improve from 0.82200\n",
            "Epoch 13/100\n",
            "16/16 [==============================] - 0s 16ms/step - loss: 0.1595 - accuracy: 0.9565 - val_loss: 0.9542 - val_accuracy: 0.8200\n",
            "\n",
            "Epoch 00013: val_accuracy did not improve from 0.82200\n",
            "Epoch 14/100\n",
            "16/16 [==============================] - 0s 16ms/step - loss: 0.1421 - accuracy: 0.9585 - val_loss: 0.9590 - val_accuracy: 0.8260\n",
            "\n",
            "Epoch 00014: val_accuracy improved from 0.82200 to 0.82600, saving model to ./check4.h5\n",
            "Epoch 15/100\n",
            "16/16 [==============================] - 0s 17ms/step - loss: 0.1303 - accuracy: 0.9587 - val_loss: 0.9844 - val_accuracy: 0.8210\n",
            "\n",
            "Epoch 00015: val_accuracy did not improve from 0.82600\n"
          ]
        }
      ]
    },
    {
      "cell_type": "code",
      "metadata": {
        "colab": {
          "base_uri": "https://localhost:8080/",
          "height": 300
        },
        "id": "OzhwBUC9dlpK",
        "outputId": "8138c6b3-7584-47b1-90f3-fc854b34594a"
      },
      "source": [
        "model.load_weights('./check4.h5')\n",
        "results = model.evaluate(x_test, one_hot_test_labels)\n",
        "\n",
        "graph()"
      ],
      "execution_count": 34,
      "outputs": [
        {
          "output_type": "stream",
          "name": "stdout",
          "text": [
            "71/71 [==============================] - 0s 4ms/step - loss: 1.0572 - accuracy: 0.7898\n"
          ]
        },
        {
          "output_type": "display_data",
          "data": {
            "image/png": "[encoded data removed]",
            "text/plain": [
              "<Figure size 864x288 with 2 Axes>"
            ]
          },
          "metadata": {
            "needs_background": "light"
          }
        }
      ]
    },
    {
      "cell_type": "markdown",
      "metadata": {
        "id": "c1phZXDQrCpL"
      },
      "source": [
        "## 3. Change learning rate\n",
        "- Hidden layer : 2\n",
        "- Optimizer : RMSprop\n",
        "- Loss : binary_crossentropy\n",
        "- Metrics : accuracy\n",
        "- Activation : relu\n",
        "- Learning rate : ***0.0001***\n",
        "- Epochs : 20\n",
        "- Batch_size : 512\n",
        "- Early stopping, check point\n",
        "\n",
        "#### Result > oss: 0.9743 - accuracy: 0.7854\n"
      ]
    },
    {
      "cell_type": "code",
      "metadata": {
        "colab": {
          "base_uri": "https://localhost:8080/"
        },
        "id": "bpoXjtfqdloK",
        "outputId": "6095938f-dd5d-4489-a393-168a366ed13f"
      },
      "source": [
        "model = models.Sequential()\n",
        "model.add(layers.Dense(64, activation='relu', input_shape=(10000,)))\n",
        "model.add(layers.Dense(64, activation='relu'))\n",
        "model.add(layers.Dense(46, activation='softmax'))\n",
        "\n",
        "model.compile(optimizer=optimizers.Adam(learning_rate=0.0001),\n",
        "loss='categorical_crossentropy',\n",
        "metrics=['accuracy'])\n",
        "\n",
        "checkpoint_path = './check5.h5'\n",
        "\n",
        "cp = ModelCheckpoint(filepath=checkpoint_path,\n",
        "                                save_weights_only=True,\n",
        "                                save_best_only=True,\n",
        "                                monitor='val_accuracy',\n",
        "                                verbose=1)\n",
        "\n",
        "es = EarlyStopping(monitor='val_loss', patience=10)\n",
        "\n",
        "history = model.fit(partial_x_train,\n",
        "partial_y_train,\n",
        "epochs=100,\n",
        "batch_size=512,\n",
        "validation_data=(x_val, y_val),\n",
        "callbacks=[cp, es])"
      ],
      "execution_count": 37,
      "outputs": [
        {
          "output_type": "stream",
          "name": "stdout",
          "text": [
            "Epoch 1/100\n",
            "16/16 [==============================] - 1s 32ms/step - loss: 3.7868 - accuracy: 0.1041 - val_loss: 3.7410 - val_accuracy: 0.2660\n",
            "\n",
            "Epoch 00001: val_accuracy improved from -inf to 0.26600, saving model to ./check5.h5\n",
            "Epoch 2/100\n",
            "16/16 [==============================] - 0s 15ms/step - loss: 3.6937 - accuracy: 0.3960 - val_loss: 3.6345 - val_accuracy: 0.4830\n",
            "\n",
            "Epoch 00002: val_accuracy improved from 0.26600 to 0.48300, saving model to ./check5.h5\n",
            "Epoch 3/100\n",
            "16/16 [==============================] - 0s 15ms/step - loss: 3.5676 - accuracy: 0.4806 - val_loss: 3.4955 - val_accuracy: 0.4930\n",
            "\n",
            "Epoch 00003: val_accuracy improved from 0.48300 to 0.49300, saving model to ./check5.h5\n",
            "Epoch 4/100\n",
            "16/16 [==============================] - 0s 16ms/step - loss: 3.4079 - accuracy: 0.4910 - val_loss: 3.3251 - val_accuracy: 0.5090\n",
            "\n",
            "Epoch 00004: val_accuracy improved from 0.49300 to 0.50900, saving model to ./check5.h5\n",
            "Epoch 5/100\n",
            "16/16 [==============================] - 0s 17ms/step - loss: 3.2155 - accuracy: 0.5113 - val_loss: 3.1284 - val_accuracy: 0.5270\n",
            "\n",
            "Epoch 00005: val_accuracy improved from 0.50900 to 0.52700, saving model to ./check5.h5\n",
            "Epoch 6/100\n",
            "16/16 [==============================] - 0s 16ms/step - loss: 2.9976 - accuracy: 0.5338 - val_loss: 2.9161 - val_accuracy: 0.5410\n",
            "\n",
            "Epoch 00006: val_accuracy improved from 0.52700 to 0.54100, saving model to ./check5.h5\n",
            "Epoch 7/100\n",
            "16/16 [==============================] - 0s 16ms/step - loss: 2.7682 - accuracy: 0.5505 - val_loss: 2.6990 - val_accuracy: 0.5530\n",
            "\n",
            "Epoch 00007: val_accuracy improved from 0.54100 to 0.55300, saving model to ./check5.h5\n",
            "Epoch 8/100\n",
            "16/16 [==============================] - 0s 15ms/step - loss: 2.5418 - accuracy: 0.5702 - val_loss: 2.4885 - val_accuracy: 0.5660\n",
            "\n",
            "Epoch 00008: val_accuracy improved from 0.55300 to 0.56600, saving model to ./check5.h5\n",
            "Epoch 9/100\n",
            "16/16 [==============================] - 0s 17ms/step - loss: 2.3265 - accuracy: 0.5961 - val_loss: 2.2938 - val_accuracy: 0.5960\n",
            "\n",
            "Epoch 00009: val_accuracy improved from 0.56600 to 0.59600, saving model to ./check5.h5\n",
            "Epoch 10/100\n",
            "16/16 [==============================] - 0s 16ms/step - loss: 2.1304 - accuracy: 0.6290 - val_loss: 2.1184 - val_accuracy: 0.6110\n",
            "\n",
            "Epoch 00010: val_accuracy improved from 0.59600 to 0.61100, saving model to ./check5.h5\n",
            "Epoch 11/100\n",
            "16/16 [==============================] - 0s 16ms/step - loss: 1.9569 - accuracy: 0.6541 - val_loss: 1.9671 - val_accuracy: 0.6290\n",
            "\n",
            "Epoch 00011: val_accuracy improved from 0.61100 to 0.62900, saving model to ./check5.h5\n",
            "Epoch 12/100\n",
            "16/16 [==============================] - 0s 16ms/step - loss: 1.8091 - accuracy: 0.6720 - val_loss: 1.8405 - val_accuracy: 0.6470\n",
            "\n",
            "Epoch 00012: val_accuracy improved from 0.62900 to 0.64700, saving model to ./check5.h5\n",
            "Epoch 13/100\n",
            "16/16 [==============================] - 0s 16ms/step - loss: 1.6843 - accuracy: 0.6863 - val_loss: 1.7332 - val_accuracy: 0.6590\n",
            "\n",
            "Epoch 00013: val_accuracy improved from 0.64700 to 0.65900, saving model to ./check5.h5\n",
            "Epoch 14/100\n",
            "16/16 [==============================] - 0s 16ms/step - loss: 1.5781 - accuracy: 0.6983 - val_loss: 1.6430 - val_accuracy: 0.6730\n",
            "\n",
            "Epoch 00014: val_accuracy improved from 0.65900 to 0.67300, saving model to ./check5.h5\n",
            "Epoch 15/100\n",
            "16/16 [==============================] - 0s 16ms/step - loss: 1.4873 - accuracy: 0.7105 - val_loss: 1.5679 - val_accuracy: 0.6830\n",
            "\n",
            "Epoch 00015: val_accuracy improved from 0.67300 to 0.68300, saving model to ./check5.h5\n",
            "Epoch 16/100\n",
            "16/16 [==============================] - 0s 17ms/step - loss: 1.4085 - accuracy: 0.7230 - val_loss: 1.5025 - val_accuracy: 0.6910\n",
            "\n",
            "Epoch 00016: val_accuracy improved from 0.68300 to 0.69100, saving model to ./check5.h5\n",
            "Epoch 17/100\n",
            "16/16 [==============================] - 0s 16ms/step - loss: 1.3391 - accuracy: 0.7355 - val_loss: 1.4472 - val_accuracy: 0.7020\n",
            "\n",
            "Epoch 00017: val_accuracy improved from 0.69100 to 0.70200, saving model to ./check5.h5\n",
            "Epoch 18/100\n",
            "16/16 [==============================] - 0s 16ms/step - loss: 1.2780 - accuracy: 0.7471 - val_loss: 1.3977 - val_accuracy: 0.7120\n",
            "\n",
            "Epoch 00018: val_accuracy improved from 0.70200 to 0.71200, saving model to ./check5.h5\n",
            "Epoch 19/100\n",
            "16/16 [==============================] - 0s 16ms/step - loss: 1.2230 - accuracy: 0.7553 - val_loss: 1.3558 - val_accuracy: 0.7140\n",
            "\n",
            "Epoch 00019: val_accuracy improved from 0.71200 to 0.71400, saving model to ./check5.h5\n",
            "Epoch 20/100\n",
            "16/16 [==============================] - 0s 16ms/step - loss: 1.1731 - accuracy: 0.7627 - val_loss: 1.3187 - val_accuracy: 0.7290\n",
            "\n",
            "Epoch 00020: val_accuracy improved from 0.71400 to 0.72900, saving model to ./check5.h5\n",
            "Epoch 21/100\n",
            "16/16 [==============================] - 0s 15ms/step - loss: 1.1270 - accuracy: 0.7697 - val_loss: 1.2848 - val_accuracy: 0.7360\n",
            "\n",
            "Epoch 00021: val_accuracy improved from 0.72900 to 0.73600, saving model to ./check5.h5\n",
            "Epoch 22/100\n",
            "16/16 [==============================] - 0s 15ms/step - loss: 1.0846 - accuracy: 0.7784 - val_loss: 1.2552 - val_accuracy: 0.7380\n",
            "\n",
            "Epoch 00022: val_accuracy improved from 0.73600 to 0.73800, saving model to ./check5.h5\n",
            "Epoch 23/100\n",
            "16/16 [==============================] - 0s 16ms/step - loss: 1.0453 - accuracy: 0.7870 - val_loss: 1.2278 - val_accuracy: 0.7450\n",
            "\n",
            "Epoch 00023: val_accuracy improved from 0.73800 to 0.74500, saving model to ./check5.h5\n",
            "Epoch 24/100\n",
            "16/16 [==============================] - 0s 16ms/step - loss: 1.0084 - accuracy: 0.7947 - val_loss: 1.2023 - val_accuracy: 0.7520\n",
            "\n",
            "Epoch 00024: val_accuracy improved from 0.74500 to 0.75200, saving model to ./check5.h5\n",
            "Epoch 25/100\n",
            "16/16 [==============================] - 0s 16ms/step - loss: 0.9742 - accuracy: 0.8014 - val_loss: 1.1820 - val_accuracy: 0.7520\n",
            "\n",
            "Epoch 00025: val_accuracy did not improve from 0.75200\n",
            "Epoch 26/100\n",
            "16/16 [==============================] - 0s 16ms/step - loss: 0.9411 - accuracy: 0.8081 - val_loss: 1.1602 - val_accuracy: 0.7560\n",
            "\n",
            "Epoch 00026: val_accuracy improved from 0.75200 to 0.75600, saving model to ./check5.h5\n",
            "Epoch 27/100\n",
            "16/16 [==============================] - 0s 17ms/step - loss: 0.9106 - accuracy: 0.8142 - val_loss: 1.1413 - val_accuracy: 0.7610\n",
            "\n",
            "Epoch 00027: val_accuracy improved from 0.75600 to 0.76100, saving model to ./check5.h5\n",
            "Epoch 28/100\n",
            "16/16 [==============================] - 0s 17ms/step - loss: 0.8812 - accuracy: 0.8193 - val_loss: 1.1242 - val_accuracy: 0.7650\n",
            "\n",
            "Epoch 00028: val_accuracy improved from 0.76100 to 0.76500, saving model to ./check5.h5\n",
            "Epoch 29/100\n",
            "16/16 [==============================] - 0s 16ms/step - loss: 0.8534 - accuracy: 0.8249 - val_loss: 1.1078 - val_accuracy: 0.7670\n",
            "\n",
            "Epoch 00029: val_accuracy improved from 0.76500 to 0.76700, saving model to ./check5.h5\n",
            "Epoch 30/100\n",
            "16/16 [==============================] - 0s 17ms/step - loss: 0.8266 - accuracy: 0.8307 - val_loss: 1.0928 - val_accuracy: 0.7750\n",
            "\n",
            "Epoch 00030: val_accuracy improved from 0.76700 to 0.77500, saving model to ./check5.h5\n",
            "Epoch 31/100\n",
            "16/16 [==============================] - 0s 16ms/step - loss: 0.8014 - accuracy: 0.8354 - val_loss: 1.0779 - val_accuracy: 0.7780\n",
            "\n",
            "Epoch 00031: val_accuracy improved from 0.77500 to 0.77800, saving model to ./check5.h5\n",
            "Epoch 32/100\n",
            "16/16 [==============================] - 0s 16ms/step - loss: 0.7765 - accuracy: 0.8414 - val_loss: 1.0642 - val_accuracy: 0.7800\n",
            "\n",
            "Epoch 00032: val_accuracy improved from 0.77800 to 0.78000, saving model to ./check5.h5\n",
            "Epoch 33/100\n",
            "16/16 [==============================] - 0s 16ms/step - loss: 0.7524 - accuracy: 0.8460 - val_loss: 1.0521 - val_accuracy: 0.7840\n",
            "\n",
            "Epoch 00033: val_accuracy improved from 0.78000 to 0.78400, saving model to ./check5.h5\n",
            "Epoch 34/100\n",
            "16/16 [==============================] - 0s 17ms/step - loss: 0.7296 - accuracy: 0.8514 - val_loss: 1.0408 - val_accuracy: 0.7850\n",
            "\n",
            "Epoch 00034: val_accuracy improved from 0.78400 to 0.78500, saving model to ./check5.h5\n",
            "Epoch 35/100\n",
            "16/16 [==============================] - 0s 16ms/step - loss: 0.7071 - accuracy: 0.8572 - val_loss: 1.0288 - val_accuracy: 0.7840\n",
            "\n",
            "Epoch 00035: val_accuracy did not improve from 0.78500\n",
            "Epoch 36/100\n",
            "16/16 [==============================] - 0s 16ms/step - loss: 0.6858 - accuracy: 0.8618 - val_loss: 1.0184 - val_accuracy: 0.7870\n",
            "\n",
            "Epoch 00036: val_accuracy improved from 0.78500 to 0.78700, saving model to ./check5.h5\n",
            "Epoch 37/100\n",
            "16/16 [==============================] - 0s 16ms/step - loss: 0.6654 - accuracy: 0.8656 - val_loss: 1.0086 - val_accuracy: 0.7900\n",
            "\n",
            "Epoch 00037: val_accuracy improved from 0.78700 to 0.79000, saving model to ./check5.h5\n",
            "Epoch 38/100\n",
            "16/16 [==============================] - 0s 17ms/step - loss: 0.6454 - accuracy: 0.8703 - val_loss: 0.9994 - val_accuracy: 0.7920\n",
            "\n",
            "Epoch 00038: val_accuracy improved from 0.79000 to 0.79200, saving model to ./check5.h5\n",
            "Epoch 39/100\n",
            "16/16 [==============================] - 0s 16ms/step - loss: 0.6265 - accuracy: 0.8741 - val_loss: 0.9917 - val_accuracy: 0.7940\n",
            "\n",
            "Epoch 00039: val_accuracy improved from 0.79200 to 0.79400, saving model to ./check5.h5\n",
            "Epoch 40/100\n",
            "16/16 [==============================] - 0s 16ms/step - loss: 0.6082 - accuracy: 0.8777 - val_loss: 0.9823 - val_accuracy: 0.7970\n",
            "\n",
            "Epoch 00040: val_accuracy improved from 0.79400 to 0.79700, saving model to ./check5.h5\n",
            "Epoch 41/100\n",
            "16/16 [==============================] - 0s 17ms/step - loss: 0.5905 - accuracy: 0.8806 - val_loss: 0.9744 - val_accuracy: 0.8000\n",
            "\n",
            "Epoch 00041: val_accuracy improved from 0.79700 to 0.80000, saving model to ./check5.h5\n",
            "Epoch 42/100\n",
            "16/16 [==============================] - 0s 16ms/step - loss: 0.5737 - accuracy: 0.8846 - val_loss: 0.9674 - val_accuracy: 0.8010\n",
            "\n",
            "Epoch 00042: val_accuracy improved from 0.80000 to 0.80100, saving model to ./check5.h5\n",
            "Epoch 43/100\n",
            "16/16 [==============================] - 0s 16ms/step - loss: 0.5572 - accuracy: 0.8877 - val_loss: 0.9612 - val_accuracy: 0.8030\n",
            "\n",
            "Epoch 00043: val_accuracy improved from 0.80100 to 0.80300, saving model to ./check5.h5\n",
            "Epoch 44/100\n",
            "16/16 [==============================] - 0s 16ms/step - loss: 0.5414 - accuracy: 0.8911 - val_loss: 0.9550 - val_accuracy: 0.8050\n",
            "\n",
            "Epoch 00044: val_accuracy improved from 0.80300 to 0.80500, saving model to ./check5.h5\n",
            "Epoch 45/100\n",
            "16/16 [==============================] - 0s 17ms/step - loss: 0.5261 - accuracy: 0.8949 - val_loss: 0.9488 - val_accuracy: 0.8060\n",
            "\n",
            "Epoch 00045: val_accuracy improved from 0.80500 to 0.80600, saving model to ./check5.h5\n",
            "Epoch 46/100\n",
            "16/16 [==============================] - 0s 17ms/step - loss: 0.5117 - accuracy: 0.8989 - val_loss: 0.9435 - val_accuracy: 0.8080\n",
            "\n",
            "Epoch 00046: val_accuracy improved from 0.80600 to 0.80800, saving model to ./check5.h5\n",
            "Epoch 47/100\n",
            "16/16 [==============================] - 0s 16ms/step - loss: 0.4977 - accuracy: 0.9009 - val_loss: 0.9380 - val_accuracy: 0.8070\n",
            "\n",
            "Epoch 00047: val_accuracy did not improve from 0.80800\n",
            "Epoch 48/100\n",
            "16/16 [==============================] - 0s 19ms/step - loss: 0.4835 - accuracy: 0.9048 - val_loss: 0.9344 - val_accuracy: 0.8070\n",
            "\n",
            "Epoch 00048: val_accuracy did not improve from 0.80800\n",
            "Epoch 49/100\n",
            "16/16 [==============================] - 0s 16ms/step - loss: 0.4702 - accuracy: 0.9070 - val_loss: 0.9271 - val_accuracy: 0.8080\n",
            "\n",
            "Epoch 00049: val_accuracy did not improve from 0.80800\n",
            "Epoch 50/100\n",
            "16/16 [==============================] - 0s 16ms/step - loss: 0.4573 - accuracy: 0.9103 - val_loss: 0.9239 - val_accuracy: 0.8090\n",
            "\n",
            "Epoch 00050: val_accuracy improved from 0.80800 to 0.80900, saving model to ./check5.h5\n",
            "Epoch 51/100\n",
            "16/16 [==============================] - 0s 16ms/step - loss: 0.4449 - accuracy: 0.9126 - val_loss: 0.9209 - val_accuracy: 0.8070\n",
            "\n",
            "Epoch 00051: val_accuracy did not improve from 0.80900\n",
            "Epoch 52/100\n",
            "16/16 [==============================] - 0s 17ms/step - loss: 0.4326 - accuracy: 0.9156 - val_loss: 0.9169 - val_accuracy: 0.8080\n",
            "\n",
            "Epoch 00052: val_accuracy did not improve from 0.80900\n",
            "Epoch 53/100\n",
            "16/16 [==============================] - 0s 16ms/step - loss: 0.4210 - accuracy: 0.9192 - val_loss: 0.9141 - val_accuracy: 0.8090\n",
            "\n",
            "Epoch 00053: val_accuracy did not improve from 0.80900\n",
            "Epoch 54/100\n",
            "16/16 [==============================] - 0s 16ms/step - loss: 0.4098 - accuracy: 0.9204 - val_loss: 0.9108 - val_accuracy: 0.8090\n",
            "\n",
            "Epoch 00054: val_accuracy did not improve from 0.80900\n",
            "Epoch 55/100\n",
            "16/16 [==============================] - 0s 17ms/step - loss: 0.3987 - accuracy: 0.9226 - val_loss: 0.9076 - val_accuracy: 0.8100\n",
            "\n",
            "Epoch 00055: val_accuracy improved from 0.80900 to 0.81000, saving model to ./check5.h5\n",
            "Epoch 56/100\n",
            "16/16 [==============================] - 0s 18ms/step - loss: 0.3883 - accuracy: 0.9250 - val_loss: 0.9044 - val_accuracy: 0.8110\n",
            "\n",
            "Epoch 00056: val_accuracy improved from 0.81000 to 0.81100, saving model to ./check5.h5\n",
            "Epoch 57/100\n",
            "16/16 [==============================] - 0s 16ms/step - loss: 0.3779 - accuracy: 0.9281 - val_loss: 0.9027 - val_accuracy: 0.8100\n",
            "\n",
            "Epoch 00057: val_accuracy did not improve from 0.81100\n",
            "Epoch 58/100\n",
            "16/16 [==============================] - 0s 17ms/step - loss: 0.3682 - accuracy: 0.9288 - val_loss: 0.8997 - val_accuracy: 0.8120\n",
            "\n",
            "Epoch 00058: val_accuracy improved from 0.81100 to 0.81200, saving model to ./check5.h5\n",
            "Epoch 59/100\n",
            "16/16 [==============================] - 0s 16ms/step - loss: 0.3587 - accuracy: 0.9307 - val_loss: 0.8988 - val_accuracy: 0.8130\n",
            "\n",
            "Epoch 00059: val_accuracy improved from 0.81200 to 0.81300, saving model to ./check5.h5\n",
            "Epoch 60/100\n",
            "16/16 [==============================] - 0s 16ms/step - loss: 0.3497 - accuracy: 0.9307 - val_loss: 0.8970 - val_accuracy: 0.8140\n",
            "\n",
            "Epoch 00060: val_accuracy improved from 0.81300 to 0.81400, saving model to ./check5.h5\n",
            "Epoch 61/100\n",
            "16/16 [==============================] - 0s 16ms/step - loss: 0.3404 - accuracy: 0.9336 - val_loss: 0.8944 - val_accuracy: 0.8150\n",
            "\n",
            "Epoch 00061: val_accuracy improved from 0.81400 to 0.81500, saving model to ./check5.h5\n",
            "Epoch 62/100\n",
            "16/16 [==============================] - 0s 16ms/step - loss: 0.3319 - accuracy: 0.9352 - val_loss: 0.8936 - val_accuracy: 0.8130\n",
            "\n",
            "Epoch 00062: val_accuracy did not improve from 0.81500\n",
            "Epoch 63/100\n",
            "16/16 [==============================] - 0s 17ms/step - loss: 0.3235 - accuracy: 0.9366 - val_loss: 0.8918 - val_accuracy: 0.8150\n",
            "\n",
            "Epoch 00063: val_accuracy did not improve from 0.81500\n",
            "Epoch 64/100\n",
            "16/16 [==============================] - 0s 16ms/step - loss: 0.3154 - accuracy: 0.9379 - val_loss: 0.8916 - val_accuracy: 0.8120\n",
            "\n",
            "Epoch 00064: val_accuracy did not improve from 0.81500\n",
            "Epoch 65/100\n",
            "16/16 [==============================] - 0s 17ms/step - loss: 0.3078 - accuracy: 0.9391 - val_loss: 0.8892 - val_accuracy: 0.8130\n",
            "\n",
            "Epoch 00065: val_accuracy did not improve from 0.81500\n",
            "Epoch 66/100\n",
            "16/16 [==============================] - 0s 16ms/step - loss: 0.3001 - accuracy: 0.9399 - val_loss: 0.8903 - val_accuracy: 0.8120\n",
            "\n",
            "Epoch 00066: val_accuracy did not improve from 0.81500\n",
            "Epoch 67/100\n",
            "16/16 [==============================] - 0s 17ms/step - loss: 0.2930 - accuracy: 0.9402 - val_loss: 0.8875 - val_accuracy: 0.8130\n",
            "\n",
            "Epoch 00067: val_accuracy did not improve from 0.81500\n",
            "Epoch 68/100\n",
            "16/16 [==============================] - 0s 17ms/step - loss: 0.2864 - accuracy: 0.9424 - val_loss: 0.8869 - val_accuracy: 0.8140\n",
            "\n",
            "Epoch 00068: val_accuracy did not improve from 0.81500\n",
            "Epoch 69/100\n",
            "16/16 [==============================] - 0s 16ms/step - loss: 0.2794 - accuracy: 0.9440 - val_loss: 0.8874 - val_accuracy: 0.8150\n",
            "\n",
            "Epoch 00069: val_accuracy did not improve from 0.81500\n",
            "Epoch 70/100\n",
            "16/16 [==============================] - 0s 17ms/step - loss: 0.2730 - accuracy: 0.9442 - val_loss: 0.8860 - val_accuracy: 0.8150\n",
            "\n",
            "Epoch 00070: val_accuracy did not improve from 0.81500\n",
            "Epoch 71/100\n",
            "16/16 [==============================] - 0s 17ms/step - loss: 0.2665 - accuracy: 0.9463 - val_loss: 0.8864 - val_accuracy: 0.8150\n",
            "\n",
            "Epoch 00071: val_accuracy did not improve from 0.81500\n",
            "Epoch 72/100\n",
            "16/16 [==============================] - 0s 16ms/step - loss: 0.2605 - accuracy: 0.9474 - val_loss: 0.8862 - val_accuracy: 0.8140\n",
            "\n",
            "Epoch 00072: val_accuracy did not improve from 0.81500\n",
            "Epoch 73/100\n",
            "16/16 [==============================] - 0s 16ms/step - loss: 0.2547 - accuracy: 0.9488 - val_loss: 0.8843 - val_accuracy: 0.8140\n",
            "\n",
            "Epoch 00073: val_accuracy did not improve from 0.81500\n",
            "Epoch 74/100\n",
            "16/16 [==============================] - 0s 18ms/step - loss: 0.2488 - accuracy: 0.9508 - val_loss: 0.8851 - val_accuracy: 0.8140\n",
            "\n",
            "Epoch 00074: val_accuracy did not improve from 0.81500\n",
            "Epoch 75/100\n",
            "16/16 [==============================] - 0s 16ms/step - loss: 0.2435 - accuracy: 0.9500 - val_loss: 0.8858 - val_accuracy: 0.8150\n",
            "\n",
            "Epoch 00075: val_accuracy did not improve from 0.81500\n",
            "Epoch 76/100\n",
            "16/16 [==============================] - 0s 17ms/step - loss: 0.2382 - accuracy: 0.9518 - val_loss: 0.8860 - val_accuracy: 0.8120\n",
            "\n",
            "Epoch 00076: val_accuracy did not improve from 0.81500\n",
            "Epoch 77/100\n",
            "16/16 [==============================] - 0s 16ms/step - loss: 0.2330 - accuracy: 0.9524 - val_loss: 0.8884 - val_accuracy: 0.8100\n",
            "\n",
            "Epoch 00077: val_accuracy did not improve from 0.81500\n",
            "Epoch 78/100\n",
            "16/16 [==============================] - 0s 17ms/step - loss: 0.2278 - accuracy: 0.9526 - val_loss: 0.8858 - val_accuracy: 0.8120\n",
            "\n",
            "Epoch 00078: val_accuracy did not improve from 0.81500\n",
            "Epoch 79/100\n",
            "16/16 [==============================] - 0s 17ms/step - loss: 0.2231 - accuracy: 0.9531 - val_loss: 0.8861 - val_accuracy: 0.8140\n",
            "\n",
            "Epoch 00079: val_accuracy did not improve from 0.81500\n",
            "Epoch 80/100\n",
            "16/16 [==============================] - 0s 16ms/step - loss: 0.2186 - accuracy: 0.9530 - val_loss: 0.8874 - val_accuracy: 0.8130\n",
            "\n",
            "Epoch 00080: val_accuracy did not improve from 0.81500\n",
            "Epoch 81/100\n",
            "16/16 [==============================] - 0s 16ms/step - loss: 0.2141 - accuracy: 0.9529 - val_loss: 0.8874 - val_accuracy: 0.8120\n",
            "\n",
            "Epoch 00081: val_accuracy did not improve from 0.81500\n",
            "Epoch 82/100\n",
            "16/16 [==============================] - 0s 16ms/step - loss: 0.2100 - accuracy: 0.9541 - val_loss: 0.8889 - val_accuracy: 0.8140\n",
            "\n",
            "Epoch 00082: val_accuracy did not improve from 0.81500\n",
            "Epoch 83/100\n",
            "16/16 [==============================] - 0s 16ms/step - loss: 0.2056 - accuracy: 0.9543 - val_loss: 0.8897 - val_accuracy: 0.8100\n",
            "\n",
            "Epoch 00083: val_accuracy did not improve from 0.81500\n"
          ]
        }
      ]
    },
    {
      "cell_type": "code",
      "metadata": {
        "colab": {
          "base_uri": "https://localhost:8080/",
          "height": 300
        },
        "id": "yxjk-kHDdlla",
        "outputId": "fbb18d62-1ab3-4d79-b3e0-cfcc91cdb8b2"
      },
      "source": [
        "model.load_weights('./check5.h5')\n",
        "results = model.evaluate(x_test, one_hot_test_labels)\n",
        "\n",
        "graph()"
      ],
      "execution_count": 38,
      "outputs": [
        {
          "output_type": "stream",
          "name": "stdout",
          "text": [
            "71/71 [==============================] - 0s 4ms/step - loss: 0.9743 - accuracy: 0.7854\n"
          ]
        },
        {
          "output_type": "display_data",
          "data": {
            "image/png": "[encoded data removed]",
            "text/plain": [
              "<Figure size 864x288 with 2 Axes>"
            ]
          },
          "metadata": {
            "needs_background": "light"
          }
        }
      ]
    },
    {
      "cell_type": "markdown",
      "metadata": {
        "id": "OPWivJT_x0gM"
      },
      "source": [
        "## 4. Change activation function\n",
        "- Hidden layer : 2\n",
        "- Optimizer : RMSprop\n",
        "- Loss : binary_crossentropy\n",
        "- Metrics : accuracy\n",
        "- Activation : ***tanh***\n",
        "- Learning rate : 0.001\n",
        "- Epochs : 20\n",
        "- Batch_size : 512\n",
        "- Early stopping, check point\n",
        "\n",
        "#### Result > loss: 0.9161 - accuracy: 0.7961\n"
      ]
    },
    {
      "cell_type": "code",
      "metadata": {
        "colab": {
          "base_uri": "https://localhost:8080/"
        },
        "id": "rbP0hDbPh2J1",
        "outputId": "215ca553-8655-4865-9f4e-4e0ae3e1fb21"
      },
      "source": [
        "model = models.Sequential()\n",
        "model.add(layers.Dense(64, activation='tanh', input_shape=(10000,)))\n",
        "model.add(layers.Dense(64, activation='tanh'))\n",
        "model.add(layers.Dense(46, activation='softmax'))\n",
        "\n",
        "model.compile(optimizer=optimizers.RMSprop(learning_rate=0.001),\n",
        "loss='categorical_crossentropy',\n",
        "metrics=['accuracy'])\n",
        "\n",
        "checkpoint_path = './check6.h5'\n",
        "\n",
        "cp = ModelCheckpoint(filepath=checkpoint_path,\n",
        "                                save_weights_only=True,\n",
        "                                save_best_only=True,\n",
        "                                monitor='val_accuracy',\n",
        "                                verbose=1)\n",
        "\n",
        "es = EarlyStopping(monitor='val_loss', patience=3)\n",
        "\n",
        "history = model.fit(partial_x_train,\n",
        "partial_y_train,\n",
        "epochs=20,\n",
        "batch_size=512,\n",
        "validation_data=(x_val, y_val),\n",
        "callbacks=[cp, es])"
      ],
      "execution_count": 42,
      "outputs": [
        {
          "output_type": "stream",
          "name": "stdout",
          "text": [
            "Epoch 1/20\n",
            "16/16 [==============================] - 1s 33ms/step - loss: 2.3029 - accuracy: 0.5467 - val_loss: 1.5995 - val_accuracy: 0.6440\n",
            "\n",
            "Epoch 00001: val_accuracy improved from -inf to 0.64400, saving model to ./check6.h5\n",
            "Epoch 2/20\n",
            "16/16 [==============================] - 0s 17ms/step - loss: 1.3293 - accuracy: 0.7159 - val_loss: 1.2290 - val_accuracy: 0.7340\n",
            "\n",
            "Epoch 00002: val_accuracy improved from 0.64400 to 0.73400, saving model to ./check6.h5\n",
            "Epoch 3/20\n",
            "16/16 [==============================] - 0s 16ms/step - loss: 0.9858 - accuracy: 0.7990 - val_loss: 1.0472 - val_accuracy: 0.7830\n",
            "\n",
            "Epoch 00003: val_accuracy improved from 0.73400 to 0.78300, saving model to ./check6.h5\n",
            "Epoch 4/20\n",
            "16/16 [==============================] - 0s 18ms/step - loss: 0.7595 - accuracy: 0.8598 - val_loss: 0.9391 - val_accuracy: 0.8060\n",
            "\n",
            "Epoch 00004: val_accuracy improved from 0.78300 to 0.80600, saving model to ./check6.h5\n",
            "Epoch 5/20\n",
            "16/16 [==============================] - 0s 17ms/step - loss: 0.5919 - accuracy: 0.8950 - val_loss: 0.8701 - val_accuracy: 0.8210\n",
            "\n",
            "Epoch 00005: val_accuracy improved from 0.80600 to 0.82100, saving model to ./check6.h5\n",
            "Epoch 6/20\n",
            "16/16 [==============================] - 0s 16ms/step - loss: 0.4638 - accuracy: 0.9171 - val_loss: 0.8252 - val_accuracy: 0.8190\n",
            "\n",
            "Epoch 00006: val_accuracy did not improve from 0.82100\n",
            "Epoch 7/20\n",
            "16/16 [==============================] - 0s 17ms/step - loss: 0.3667 - accuracy: 0.9341 - val_loss: 0.8153 - val_accuracy: 0.8200\n",
            "\n",
            "Epoch 00007: val_accuracy did not improve from 0.82100\n",
            "Epoch 8/20\n",
            "16/16 [==============================] - 0s 17ms/step - loss: 0.2922 - accuracy: 0.9429 - val_loss: 0.8068 - val_accuracy: 0.8280\n",
            "\n",
            "Epoch 00008: val_accuracy improved from 0.82100 to 0.82800, saving model to ./check6.h5\n",
            "Epoch 9/20\n",
            "16/16 [==============================] - 0s 17ms/step - loss: 0.2402 - accuracy: 0.9485 - val_loss: 0.8109 - val_accuracy: 0.8270\n",
            "\n",
            "Epoch 00009: val_accuracy did not improve from 0.82800\n",
            "Epoch 10/20\n",
            "16/16 [==============================] - 0s 17ms/step - loss: 0.2011 - accuracy: 0.9509 - val_loss: 0.8236 - val_accuracy: 0.8190\n",
            "\n",
            "Epoch 00010: val_accuracy did not improve from 0.82800\n",
            "Epoch 11/20\n",
            "16/16 [==============================] - 0s 17ms/step - loss: 0.1717 - accuracy: 0.9528 - val_loss: 0.8516 - val_accuracy: 0.8120\n",
            "\n",
            "Epoch 00011: val_accuracy did not improve from 0.82800\n"
          ]
        }
      ]
    },
    {
      "cell_type": "code",
      "metadata": {
        "colab": {
          "base_uri": "https://localhost:8080/",
          "height": 300
        },
        "id": "MvYQLbYth2HR",
        "outputId": "d7fe97e8-2d3d-4887-b87a-c046b39a1427"
      },
      "source": [
        "# Result\n",
        "model.load_weights(checkpoint_path)\n",
        "results = model.evaluate(x_test, one_hot_test_labels)\n",
        "\n",
        "graph()"
      ],
      "execution_count": 43,
      "outputs": [
        {
          "output_type": "stream",
          "name": "stdout",
          "text": [
            "71/71 [==============================] - 0s 4ms/step - loss: 0.9161 - accuracy: 0.7961\n"
          ]
        },
        {
          "output_type": "display_data",
          "data": {
            "image/png": "[encoded data removed]",
            "text/plain": [
              "<Figure size 864x288 with 2 Axes>"
            ]
          },
          "metadata": {
            "needs_background": "light"
          }
        }
      ]
    },
    {
      "cell_type": "markdown",
      "metadata": {
        "id": "1s-DRo-eyjWh"
      },
      "source": [
        "## 5. Change batch_size\n",
        "- Hidden layer : 2\n",
        "- Optimizer : RMSprop\n",
        "- Loss : binary_crossentropy\n",
        "- Metrics : accuracy\n",
        "- Activation : relu\n",
        "- Learning rate : 0.001\n",
        "- Epochs : 20\n",
        "- Batch_size : ***125***\n",
        "- Early stopping, check point\n",
        "\n",
        "#### Result > loss: 0.9571 - accuracy: 0.7992\n"
      ]
    },
    {
      "cell_type": "code",
      "metadata": {
        "colab": {
          "base_uri": "https://localhost:8080/"
        },
        "id": "ZAb5fvm2h2Fd",
        "outputId": "37ebb069-6cef-4abe-bdfb-c06dbf2d879a"
      },
      "source": [
        "model = models.Sequential()\n",
        "model.add(layers.Dense(64, activation='relu', input_shape=(10000,)))\n",
        "model.add(layers.Dense(64, activation='relu'))\n",
        "model.add(layers.Dense(46, activation='softmax'))\n",
        "\n",
        "model.compile(optimizer=optimizers.RMSprop(learning_rate=0.001),\n",
        "loss='categorical_crossentropy',\n",
        "metrics=['accuracy'])\n",
        "\n",
        "checkpoint_path = './check.h5'\n",
        "\n",
        "cp = ModelCheckpoint(filepath=checkpoint_path,\n",
        "                                save_weights_only=True,\n",
        "                                save_best_only=True,\n",
        "                                monitor='val_accuracy',\n",
        "                                verbose=1)\n",
        "\n",
        "es = EarlyStopping(monitor='val_loss', patience=3)\n",
        "\n",
        "history = model.fit(partial_x_train,\n",
        "partial_y_train,\n",
        "epochs=20,\n",
        "batch_size=125,\n",
        "validation_data=(x_val, y_val),\n",
        "callbacks=[cp, es])"
      ],
      "execution_count": 44,
      "outputs": [
        {
          "output_type": "stream",
          "name": "stdout",
          "text": [
            "Epoch 1/20\n",
            "64/64 [==============================] - 1s 11ms/step - loss: 1.7772 - accuracy: 0.6344 - val_loss: 1.2003 - val_accuracy: 0.7330\n",
            "\n",
            "Epoch 00001: val_accuracy improved from -inf to 0.73300, saving model to ./check.h5\n",
            "Epoch 2/20\n",
            "64/64 [==============================] - 0s 7ms/step - loss: 0.9175 - accuracy: 0.8011 - val_loss: 1.0000 - val_accuracy: 0.7960\n",
            "\n",
            "Epoch 00002: val_accuracy improved from 0.73300 to 0.79600, saving model to ./check.h5\n",
            "Epoch 3/20\n",
            "64/64 [==============================] - 0s 7ms/step - loss: 0.6229 - accuracy: 0.8680 - val_loss: 0.9396 - val_accuracy: 0.8090\n",
            "\n",
            "Epoch 00003: val_accuracy improved from 0.79600 to 0.80900, saving model to ./check.h5\n",
            "Epoch 4/20\n",
            "64/64 [==============================] - 0s 8ms/step - loss: 0.4322 - accuracy: 0.9093 - val_loss: 0.9059 - val_accuracy: 0.8160\n",
            "\n",
            "Epoch 00004: val_accuracy improved from 0.80900 to 0.81600, saving model to ./check.h5\n",
            "Epoch 5/20\n",
            "64/64 [==============================] - 0s 8ms/step - loss: 0.3132 - accuracy: 0.9330 - val_loss: 0.9223 - val_accuracy: 0.8130\n",
            "\n",
            "Epoch 00005: val_accuracy did not improve from 0.81600\n",
            "Epoch 6/20\n",
            "64/64 [==============================] - 0s 7ms/step - loss: 0.2465 - accuracy: 0.9440 - val_loss: 0.9381 - val_accuracy: 0.8120\n",
            "\n",
            "Epoch 00006: val_accuracy did not improve from 0.81600\n",
            "Epoch 7/20\n",
            "64/64 [==============================] - 0s 8ms/step - loss: 0.2013 - accuracy: 0.9510 - val_loss: 0.9983 - val_accuracy: 0.8070\n",
            "\n",
            "Epoch 00007: val_accuracy did not improve from 0.81600\n"
          ]
        }
      ]
    },
    {
      "cell_type": "code",
      "metadata": {
        "colab": {
          "base_uri": "https://localhost:8080/",
          "height": 300
        },
        "id": "ig7v3BOFh2DD",
        "outputId": "4bcac8e8-1929-47c8-c8ac-e34a35928e31"
      },
      "source": [
        "# Result\n",
        "model.load_weights(checkpoint_path)\n",
        "results = model.evaluate(x_test, one_hot_test_labels)\n",
        "\n",
        "graph()"
      ],
      "execution_count": 45,
      "outputs": [
        {
          "output_type": "stream",
          "name": "stdout",
          "text": [
            "71/71 [==============================] - 0s 4ms/step - loss: 0.9571 - accuracy: 0.7992\n"
          ]
        },
        {
          "output_type": "display_data",
          "data": {
            "image/png": "[encoded data removed]",
            "text/plain": [
              "<Figure size 864x288 with 2 Axes>"
            ]
          },
          "metadata": {
            "needs_background": "light"
          }
        }
      ]
    },
    {
      "cell_type": "markdown",
      "metadata": {
        "id": "O-O9GSVwy_Ja"
      },
      "source": [
        "## 6. Final\n",
        "- Hidden layer : ***5 + Change hidden units***\n",
        "- Optimizer : RMSprop\n",
        "- Loss : binary_crossentropy\n",
        "- Metrics : accuracy\n",
        "- Activation : ***tanh***\n",
        "- Learning rate : ***0.0001***\n",
        "- Epochs : 20\n",
        "- Batch_size : ***125***\n",
        "- Early stopping, check point\n",
        "\n",
        "#### Result > loss: 0.8952 - accuracy: 0.8081\n"
      ]
    },
    {
      "cell_type": "code",
      "metadata": {
        "colab": {
          "base_uri": "https://localhost:8080/"
        },
        "id": "ykrNb7sKiW4Z",
        "outputId": "882e2ace-4616-4704-ed99-57ca1efefeff"
      },
      "source": [
        "model = models.Sequential()\n",
        "model.add(layers.Dense(5000, activation='tanh', input_shape=(10000,)))\n",
        "model.add(layers.Dense(1000, activation='tanh'))\n",
        "model.add(layers.Dense(500, activation='tanh'))\n",
        "model.add(layers.Dense(100, activation='tanh'))\n",
        "model.add(layers.Dense(46, activation='softmax'))\n",
        "\n",
        "model.compile(optimizer=optimizers.RMSprop(learning_rate=0.0001),\n",
        "loss='categorical_crossentropy',\n",
        "metrics=['accuracy'])\n",
        "\n",
        "checkpoint_path = './check.h5'\n",
        "\n",
        "cp = ModelCheckpoint(filepath=checkpoint_path,\n",
        "                                save_weights_only=True,\n",
        "                                save_best_only=True,\n",
        "                                monitor='val_accuracy',\n",
        "                                verbose=1)\n",
        "\n",
        "es = EarlyStopping(monitor='val_loss', patience=5)\n",
        "\n",
        "history = model.fit(partial_x_train,\n",
        "partial_y_train,\n",
        "epochs=20,\n",
        "batch_size=125,\n",
        "validation_data=(x_val, y_val),\n",
        "callbacks=[cp, es])"
      ],
      "execution_count": 52,
      "outputs": [
        {
          "output_type": "stream",
          "name": "stdout",
          "text": [
            "Epoch 1/20\n",
            "64/64 [==============================] - 5s 60ms/step - loss: 1.3261 - accuracy: 0.7086 - val_loss: 0.9480 - val_accuracy: 0.7970\n",
            "\n",
            "Epoch 00001: val_accuracy improved from -inf to 0.79700, saving model to ./check.h5\n",
            "Epoch 2/20\n",
            "64/64 [==============================] - 4s 57ms/step - loss: 0.6329 - accuracy: 0.8742 - val_loss: 0.8413 - val_accuracy: 0.8220\n",
            "\n",
            "Epoch 00002: val_accuracy improved from 0.79700 to 0.82200, saving model to ./check.h5\n",
            "Epoch 3/20\n",
            "64/64 [==============================] - 4s 58ms/step - loss: 0.3861 - accuracy: 0.9246 - val_loss: 0.7897 - val_accuracy: 0.8350\n",
            "\n",
            "Epoch 00003: val_accuracy improved from 0.82200 to 0.83500, saving model to ./check.h5\n",
            "Epoch 4/20\n",
            "64/64 [==============================] - 4s 58ms/step - loss: 0.2666 - accuracy: 0.9434 - val_loss: 0.8358 - val_accuracy: 0.8150\n",
            "\n",
            "Epoch 00004: val_accuracy did not improve from 0.83500\n",
            "Epoch 5/20\n",
            "64/64 [==============================] - 4s 57ms/step - loss: 0.2044 - accuracy: 0.9504 - val_loss: 0.8462 - val_accuracy: 0.8210\n",
            "\n",
            "Epoch 00005: val_accuracy did not improve from 0.83500\n",
            "Epoch 6/20\n",
            "64/64 [==============================] - 4s 57ms/step - loss: 0.1712 - accuracy: 0.9534 - val_loss: 0.8519 - val_accuracy: 0.8190\n",
            "\n",
            "Epoch 00006: val_accuracy did not improve from 0.83500\n",
            "Epoch 7/20\n",
            "64/64 [==============================] - 4s 57ms/step - loss: 0.1445 - accuracy: 0.9550 - val_loss: 0.8672 - val_accuracy: 0.8150\n",
            "\n",
            "Epoch 00007: val_accuracy did not improve from 0.83500\n",
            "Epoch 8/20\n",
            "64/64 [==============================] - 4s 57ms/step - loss: 0.1290 - accuracy: 0.9551 - val_loss: 0.8913 - val_accuracy: 0.8110\n",
            "\n",
            "Epoch 00008: val_accuracy did not improve from 0.83500\n"
          ]
        }
      ]
    },
    {
      "cell_type": "code",
      "metadata": {
        "colab": {
          "base_uri": "https://localhost:8080/",
          "height": 300
        },
        "id": "3h6fjtdrzxFm",
        "outputId": "ea3de99b-b4ab-4c30-820e-d9a9e761e0d3"
      },
      "source": [
        "# Result\n",
        "model.load_weights(checkpoint_path)\n",
        "results = model.evaluate(x_test, one_hot_test_labels)\n",
        "\n",
        "graph()"
      ],
      "execution_count": 53,
      "outputs": [
        {
          "output_type": "stream",
          "name": "stdout",
          "text": [
            "71/71 [==============================] - 1s 10ms/step - loss: 0.8952 - accuracy: 0.8081\n"
          ]
        },
        {
          "output_type": "display_data",
          "data": {
            "image/png": "[encoded data removed]",
            "text/plain": [
              "<Figure size 864x288 with 2 Axes>"
            ]
          },
          "metadata": {
            "needs_background": "light"
          }
        }
      ]
    },
    {
      "cell_type": "code",
      "metadata": {
        "id": "HlJEn-3wz3gK"
      },
      "source": [
        ""
      ],
      "execution_count": 51,
      "outputs": []
    }
  ]
}