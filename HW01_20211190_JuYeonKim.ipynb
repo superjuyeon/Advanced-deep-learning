{
  "nbformat": 4,
  "nbformat_minor": 0,
  "metadata": {
    "colab": {
      "name": "HW01_20211190_JuYeonKim.ipynb",
      "provenance": [],
      "collapsed_sections": []
    },
    "kernelspec": {
      "name": "python3",
      "display_name": "Python 3"
    },
    "language_info": {
      "name": "python"
    },
    "accelerator": "GPU"
  },
  "cells": [
    {
      "cell_type": "code",
      "metadata": {
        "id": "O-BV2y-CfQw6"
      },
      "source": [
        "from keras.datasets import imdb\n",
        "import numpy as np\n",
        "from keras import models\n",
        "from keras import layers\n",
        "from tensorflow.keras import optimizers\n",
        "from keras import losses\n",
        "from keras import metrics\n",
        "import matplotlib.pyplot as plt\n",
        "\n",
        "from keras.callbacks import ModelCheckpoint, EarlyStopping"
      ],
      "execution_count": 1,
      "outputs": []
    },
    {
      "cell_type": "code",
      "metadata": {
        "id": "3nMuzRzJjtGF"
      },
      "source": [
        "# graph function\n",
        "def graph():\n",
        "    plt.figure(figsize = (12,4))\n",
        "    \n",
        "    plt.subplot(1,2,1)\n",
        "    plt.plot(history.history['loss'], 'b-', label = 'loss')\n",
        "    plt.plot(history.history['val_loss'], 'r--', label = 'val_loss')\n",
        "    plt.xlabel('Epoch')\n",
        "    plt.legend()\n",
        "\n",
        "    plt.subplot(1,2,2)\n",
        "    plt.plot(history.history['binary_accuracy'], 'g-', label = 'acc')\n",
        "    plt.plot(history.history['val_binary_accuracy'], 'k--', label = 'val_acc')\n",
        "    plt.xlabel('Epoch')\n",
        "    plt.ylim([0.7, 1])\n",
        "    plt.legend()\n",
        "\n",
        "    return plt.show()"
      ],
      "execution_count": 2,
      "outputs": []
    },
    {
      "cell_type": "markdown",
      "metadata": {
        "id": "FmpXH8JcfepN"
      },
      "source": [
        "Loading the IMDB dataset"
      ]
    },
    {
      "cell_type": "code",
      "metadata": {
        "id": "bwa_zmtwfb2t"
      },
      "source": [
        "(train_data, train_labels),(test_data, test_labels) = imdb.load_data(num_words=10000) \n",
        "#num_words = top 10,000 most frequently occurring words in training data"
      ],
      "execution_count": 3,
      "outputs": []
    },
    {
      "cell_type": "code",
      "metadata": {
        "id": "yM9jBacufdR4"
      },
      "source": [
        "def vectorize_sequences(sequences, dimension=10000):\n",
        "    results = np.zeros((len(sequences), dimension)) # 0으로 구성된 깡통 만들기 (len(sequences), dimension)\n",
        "    for i, sequence in enumerate(sequences):\n",
        "        results[i, sequence] = 1. # 맞는 단어가 있는 경우 1로 표시하기\n",
        "    return results\n",
        "\n",
        "# Our vectorized training & test data\n",
        "x_train = vectorize_sequences(train_data)\n",
        "x_test = vectorize_sequences(test_data)"
      ],
      "execution_count": 4,
      "outputs": []
    },
    {
      "cell_type": "code",
      "metadata": {
        "id": "ssXpBG8qfjgW"
      },
      "source": [
        "# Our vectorized labels\n",
        "y_train = np.asarray(train_labels).astype('float32')\n",
        "y_test = np.asarray(test_labels).astype('float32')"
      ],
      "execution_count": 5,
      "outputs": []
    },
    {
      "cell_type": "markdown",
      "metadata": {
        "id": "iiC9jbPWaeO-"
      },
      "source": [
        "## 1. Baseline\n",
        "- Hidden layer : 2\n",
        "- Optimizer : rmsprop\n",
        "- Loss : binary_crossentropy\n",
        "- Metrics : accuracy\n",
        "- Activation : relu\n",
        "- Learning rate : 0.001\n",
        "- Epochs : 20\n",
        "- Batch_size : 512\n",
        "- Early stopping, check point\n",
        "\n",
        "#### Result > Loss: 0.2957 / Accuracy: 0.8818"
      ]
    },
    {
      "cell_type": "code",
      "metadata": {
        "id": "BY9UMubUfmYX"
      },
      "source": [
        "model = models.Sequential()\n",
        "model.add(layers.Dense(16, activation='relu', input_shape=(10000,)))\n",
        "model.add(layers.Dense(16, activation='relu'))\n",
        "model.add(layers.Dense(1, activation='sigmoid'))\n",
        "\n",
        "\n",
        "model.compile(optimizer='rmsprop', # RMSprop - 기울기 단순 누적X, 지수 가중 이동 평균을 사용하여 최신 기울기들이 더 크게 반영되도록\n",
        "loss='binary_crossentropy',\n",
        "metrics=['accuracy'])"
      ],
      "execution_count": 6,
      "outputs": []
    },
    {
      "cell_type": "code",
      "metadata": {
        "id": "nKVz7allfnnu"
      },
      "source": [
        "model.compile(optimizer=optimizers.RMSprop(learning_rate=0.001),\n",
        "loss='binary_crossentropy',\n",
        "metrics=['accuracy'])\n",
        "\n",
        "model.compile(optimizer=optimizers.RMSprop(learning_rate=0.001),\n",
        "loss=losses.binary_crossentropy,\n",
        "metrics=[metrics.binary_accuracy])"
      ],
      "execution_count": 7,
      "outputs": []
    },
    {
      "cell_type": "code",
      "metadata": {
        "id": "7IuiGb67fr4O"
      },
      "source": [
        "x_val = x_train[:10000]\n",
        "partial_x_train = x_train[10000:]\n",
        "y_val = y_train[:10000]\n",
        "partial_y_train = y_train[10000:]"
      ],
      "execution_count": 8,
      "outputs": []
    },
    {
      "cell_type": "code",
      "metadata": {
        "colab": {
          "base_uri": "https://localhost:8080/"
        },
        "id": "A0u_omEUfxax",
        "outputId": "75c83d72-6d78-4d88-e2a8-8b9e973a0fae"
      },
      "source": [
        "checkpoint_path = './check.h5'\n",
        "\n",
        "cp = ModelCheckpoint(filepath=checkpoint_path,\n",
        "                                save_weights_only=True,\n",
        "                                save_best_only=True,\n",
        "                                monitor='val_binary_accuracy',\n",
        "                                verbose=1)\n",
        "\n",
        "es = EarlyStopping(monitor='val_loss', patience=3)\n",
        "\n",
        "history = model.fit(partial_x_train,\n",
        "partial_y_train,\n",
        "epochs=20,\n",
        "batch_size=512,\n",
        "validation_data=(x_val, y_val),\n",
        "callbacks=[cp, es])"
      ],
      "execution_count": 9,
      "outputs": [
        {
          "output_type": "stream",
          "name": "stdout",
          "text": [
            "Epoch 1/20\n",
            "30/30 [==============================] - 2s 43ms/step - loss: 0.5042 - binary_accuracy: 0.7961 - val_loss: 0.3755 - val_binary_accuracy: 0.8741\n",
            "\n",
            "Epoch 00001: val_binary_accuracy improved from -inf to 0.87410, saving model to ./check.h5\n",
            "Epoch 2/20\n",
            "30/30 [==============================] - 1s 21ms/step - loss: 0.2997 - binary_accuracy: 0.9057 - val_loss: 0.3041 - val_binary_accuracy: 0.8855\n",
            "\n",
            "Epoch 00002: val_binary_accuracy improved from 0.87410 to 0.88550, saving model to ./check.h5\n",
            "Epoch 3/20\n",
            "30/30 [==============================] - 1s 24ms/step - loss: 0.2206 - binary_accuracy: 0.9267 - val_loss: 0.3190 - val_binary_accuracy: 0.8689\n",
            "\n",
            "Epoch 00003: val_binary_accuracy did not improve from 0.88550\n",
            "Epoch 4/20\n",
            "30/30 [==============================] - 1s 19ms/step - loss: 0.1723 - binary_accuracy: 0.9442 - val_loss: 0.2741 - val_binary_accuracy: 0.8908\n",
            "\n",
            "Epoch 00004: val_binary_accuracy improved from 0.88550 to 0.89080, saving model to ./check.h5\n",
            "Epoch 5/20\n",
            "30/30 [==============================] - 1s 21ms/step - loss: 0.1362 - binary_accuracy: 0.9572 - val_loss: 0.2895 - val_binary_accuracy: 0.8881\n",
            "\n",
            "Epoch 00005: val_binary_accuracy did not improve from 0.89080\n",
            "Epoch 6/20\n",
            "30/30 [==============================] - 1s 20ms/step - loss: 0.1142 - binary_accuracy: 0.9638 - val_loss: 0.3050 - val_binary_accuracy: 0.8843\n",
            "\n",
            "Epoch 00006: val_binary_accuracy did not improve from 0.89080\n",
            "Epoch 7/20\n",
            "30/30 [==============================] - 1s 21ms/step - loss: 0.0901 - binary_accuracy: 0.9737 - val_loss: 0.3890 - val_binary_accuracy: 0.8594\n",
            "\n",
            "Epoch 00007: val_binary_accuracy did not improve from 0.89080\n"
          ]
        }
      ]
    },
    {
      "cell_type": "code",
      "metadata": {
        "colab": {
          "base_uri": "https://localhost:8080/",
          "height": 300
        },
        "id": "Pa_MboZGfzEb",
        "outputId": "20123482-bcde-46fa-a235-fbef0afba482"
      },
      "source": [
        "model.load_weights(checkpoint_path)\n",
        "results = model.evaluate(x_test, y_test)\n",
        "\n",
        "graph()"
      ],
      "execution_count": 10,
      "outputs": [
        {
          "output_type": "stream",
          "name": "stdout",
          "text": [
            "782/782 [==============================] - 2s 3ms/step - loss: 0.2957 - binary_accuracy: 0.8818\n"
          ]
        },
        {
          "output_type": "display_data",
          "data": {
            "image/png": "[encoded data removed]",
            "text/plain": [
              "<Figure size 864x288 with 2 Axes>"
            ]
          },
          "metadata": {
            "needs_background": "light"
          }
        }
      ]
    },
    {
      "cell_type": "markdown",
      "metadata": {
        "id": "Cj_fFtZTtAXR"
      },
      "source": [
        "## 2. Add hidden layer\n",
        "- Hidden layer : ***5 + Change hidden units***\n",
        "- Optimizer : rmsprop\n",
        "- Loss : binary_crossentropy\n",
        "- Metrics : accuracy\n",
        "- Activation : relu\n",
        "- Learning rate : 0.001\n",
        "- Epochs : 20\n",
        "- Batch_size : 512\n",
        "- Early stopping, check point\n",
        "\n",
        "#### Result > Loss: 0.4880 / Accuracy: 0.8668"
      ]
    },
    {
      "cell_type": "code",
      "metadata": {
        "id": "Z2S5N5kwgnV7"
      },
      "source": [
        "model = models.Sequential()\n",
        "model.add(layers.Dense(64, activation='relu', input_shape=(10000,)))\n",
        "model.add(layers.Dense(32, activation='relu'))\n",
        "model.add(layers.Dense(16, activation='relu'))\n",
        "model.add(layers.Dense(8, activation='relu'))\n",
        "model.add(layers.Dense(4, activation='relu'))\n",
        "model.add(layers.Dense(1, activation='sigmoid'))\n",
        "\n",
        "model.compile(optimizer='rmsprop', # RMSprop - 기울기 단순 누적X, 지수 가중 이동 평균을 사용하여 최신 기울기들이 더 크게 반영되도록\n",
        "loss='binary_crossentropy',\n",
        "metrics=['accuracy'])"
      ],
      "execution_count": 11,
      "outputs": []
    },
    {
      "cell_type": "code",
      "metadata": {
        "id": "XCFyc0V7telq"
      },
      "source": [
        "model.compile(optimizer=optimizers.RMSprop(learning_rate=0.001),\n",
        "loss='binary_crossentropy',\n",
        "metrics=['accuracy'])\n",
        "\n",
        "model.compile(optimizer=optimizers.RMSprop(learning_rate=0.001),\n",
        "loss=losses.binary_crossentropy,\n",
        "metrics=[metrics.binary_accuracy])\n",
        "\n",
        "x_val = x_train[:10000]\n",
        "partial_x_train = x_train[10000:]\n",
        "y_val = y_train[:10000]\n",
        "partial_y_train = y_train[10000:]"
      ],
      "execution_count": 12,
      "outputs": []
    },
    {
      "cell_type": "code",
      "metadata": {
        "colab": {
          "base_uri": "https://localhost:8080/"
        },
        "id": "ebXPGTWjtk6U",
        "outputId": "6bcc9763-a571-4e83-c858-b04410ddf3ca"
      },
      "source": [
        "checkpoint_path = './check.h5'\n",
        "\n",
        "cp = ModelCheckpoint(filepath=checkpoint_path,\n",
        "                                save_weights_only=True,\n",
        "                                save_best_only=True,\n",
        "                                monitor='val_binary_accuracy',\n",
        "                                verbose=1)\n",
        "\n",
        "es = EarlyStopping(monitor='val_loss', patience=3)\n",
        "\n",
        "history = model.fit(partial_x_train,\n",
        "partial_y_train,\n",
        "epochs=20,\n",
        "batch_size=512,\n",
        "validation_data=(x_val, y_val),\n",
        "callbacks=[cp, es])"
      ],
      "execution_count": 13,
      "outputs": [
        {
          "output_type": "stream",
          "name": "stdout",
          "text": [
            "Epoch 1/20\n",
            "30/30 [==============================] - 2s 46ms/step - loss: 0.5898 - binary_accuracy: 0.7169 - val_loss: 0.5188 - val_binary_accuracy: 0.7894\n",
            "\n",
            "Epoch 00001: val_binary_accuracy improved from -inf to 0.78940, saving model to ./check.h5\n",
            "Epoch 2/20\n",
            "30/30 [==============================] - 1s 22ms/step - loss: 0.4649 - binary_accuracy: 0.8816 - val_loss: 0.4764 - val_binary_accuracy: 0.8766\n",
            "\n",
            "Epoch 00002: val_binary_accuracy improved from 0.78940 to 0.87660, saving model to ./check.h5\n",
            "Epoch 3/20\n",
            "30/30 [==============================] - 1s 26ms/step - loss: 0.4184 - binary_accuracy: 0.9195 - val_loss: 0.5003 - val_binary_accuracy: 0.8717\n",
            "\n",
            "Epoch 00003: val_binary_accuracy did not improve from 0.87660\n",
            "Epoch 4/20\n",
            "30/30 [==============================] - 1s 22ms/step - loss: 0.3861 - binary_accuracy: 0.9414 - val_loss: 0.5761 - val_binary_accuracy: 0.8554\n",
            "\n",
            "Epoch 00004: val_binary_accuracy did not improve from 0.87660\n",
            "Epoch 5/20\n",
            "30/30 [==============================] - 1s 23ms/step - loss: 0.3631 - binary_accuracy: 0.9543 - val_loss: 0.5513 - val_binary_accuracy: 0.8705\n",
            "\n",
            "Epoch 00005: val_binary_accuracy did not improve from 0.87660\n"
          ]
        }
      ]
    },
    {
      "cell_type": "code",
      "metadata": {
        "colab": {
          "base_uri": "https://localhost:8080/",
          "height": 300
        },
        "id": "cLpolhsCtp6V",
        "outputId": "2bed2271-3497-4343-c519-96834b389863"
      },
      "source": [
        "model.load_weights(checkpoint_path)\n",
        "results = model.evaluate(x_test, y_test)\n",
        "\n",
        "graph()"
      ],
      "execution_count": 14,
      "outputs": [
        {
          "output_type": "stream",
          "name": "stdout",
          "text": [
            "782/782 [==============================] - 3s 3ms/step - loss: 0.4880 - binary_accuracy: 0.8668\n"
          ]
        },
        {
          "output_type": "display_data",
          "data": {
            "image/png": "[encoded data removed]",
            "text/plain": [
              "<Figure size 864x288 with 2 Axes>"
            ]
          },
          "metadata": {
            "needs_background": "light"
          }
        }
      ]
    },
    {
      "cell_type": "markdown",
      "metadata": {
        "id": "8wHY7yH3uOaY"
      },
      "source": [
        "## 3. Reduce hidden layer\n",
        "- Hidden layer : ***1***\n",
        "- Optimizer : rmsprop\n",
        "- Loss : binary_crossentropy\n",
        "- Metrics : accuracy\n",
        "- Activation : relu\n",
        "- Learning rate : 0.001\n",
        "- Epochs : 20\n",
        "- Batch_size : 512\n",
        "- Early stopping, check point\n",
        "\n",
        "#### Result > Loss: 0.2924/ Accuracy: 0.8851"
      ]
    },
    {
      "cell_type": "code",
      "metadata": {
        "id": "ESt_Y9Dwtydm"
      },
      "source": [
        "model = models.Sequential()\n",
        "model.add(layers.Dense(16, activation='relu', input_shape=(10000,)))\n",
        "model.add(layers.Dense(1, activation='sigmoid'))\n",
        "\n",
        "model.compile(optimizer='rmsprop', # RMSprop - 기울기 단순 누적X, 지수 가중 이동 평균을 사용하여 최신 기울기들이 더 크게 반영되도록\n",
        "loss='binary_crossentropy',\n",
        "metrics=['accuracy'])"
      ],
      "execution_count": 15,
      "outputs": []
    },
    {
      "cell_type": "code",
      "metadata": {
        "id": "AOcyXZZhuaqv"
      },
      "source": [
        "model.compile(optimizer=optimizers.RMSprop(learning_rate=0.001),\n",
        "loss='binary_crossentropy',\n",
        "metrics=['accuracy'])\n",
        "\n",
        "model.compile(optimizer=optimizers.RMSprop(learning_rate=0.001),\n",
        "loss=losses.binary_crossentropy,\n",
        "metrics=[metrics.binary_accuracy])\n",
        "\n",
        "x_val = x_train[:10000]\n",
        "partial_x_train = x_train[10000:]\n",
        "y_val = y_train[:10000]\n",
        "partial_y_train = y_train[10000:]"
      ],
      "execution_count": 16,
      "outputs": []
    },
    {
      "cell_type": "code",
      "metadata": {
        "colab": {
          "base_uri": "https://localhost:8080/"
        },
        "id": "0wSn1g21ubHx",
        "outputId": "e0075bda-7c50-40d7-c4cb-e84adb8b7608"
      },
      "source": [
        "checkpoint_path = './check.h5'\n",
        "\n",
        "cp = ModelCheckpoint(filepath=checkpoint_path,\n",
        "                                save_weights_only=True,\n",
        "                                save_best_only=True,\n",
        "                                monitor='val_binary_accuracy',\n",
        "                                verbose=1)\n",
        "\n",
        "es = EarlyStopping(monitor='val_loss', patience=3)\n",
        "\n",
        "history = model.fit(partial_x_train,\n",
        "partial_y_train,\n",
        "epochs=20,\n",
        "batch_size=512,\n",
        "validation_data=(x_val, y_val),\n",
        "callbacks=[cp, es])"
      ],
      "execution_count": 17,
      "outputs": [
        {
          "output_type": "stream",
          "name": "stdout",
          "text": [
            "Epoch 1/20\n",
            "30/30 [==============================] - 2s 33ms/step - loss: 0.5070 - binary_accuracy: 0.7945 - val_loss: 0.3881 - val_binary_accuracy: 0.8692\n",
            "\n",
            "Epoch 00001: val_binary_accuracy improved from -inf to 0.86920, saving model to ./check.h5\n",
            "Epoch 2/20\n",
            "30/30 [==============================] - 1s 20ms/step - loss: 0.3199 - binary_accuracy: 0.9016 - val_loss: 0.3185 - val_binary_accuracy: 0.8873\n",
            "\n",
            "Epoch 00002: val_binary_accuracy improved from 0.86920 to 0.88730, saving model to ./check.h5\n",
            "Epoch 3/20\n",
            "30/30 [==============================] - 1s 20ms/step - loss: 0.2475 - binary_accuracy: 0.9219 - val_loss: 0.2918 - val_binary_accuracy: 0.8898\n",
            "\n",
            "Epoch 00003: val_binary_accuracy improved from 0.88730 to 0.88980, saving model to ./check.h5\n",
            "Epoch 4/20\n",
            "30/30 [==============================] - 1s 20ms/step - loss: 0.2033 - binary_accuracy: 0.9385 - val_loss: 0.2764 - val_binary_accuracy: 0.8912\n",
            "\n",
            "Epoch 00004: val_binary_accuracy improved from 0.88980 to 0.89120, saving model to ./check.h5\n",
            "Epoch 5/20\n",
            "30/30 [==============================] - 1s 20ms/step - loss: 0.1730 - binary_accuracy: 0.9489 - val_loss: 0.2749 - val_binary_accuracy: 0.8909\n",
            "\n",
            "Epoch 00005: val_binary_accuracy did not improve from 0.89120\n",
            "Epoch 6/20\n",
            "30/30 [==============================] - 1s 21ms/step - loss: 0.1501 - binary_accuracy: 0.9558 - val_loss: 0.2751 - val_binary_accuracy: 0.8882\n",
            "\n",
            "Epoch 00006: val_binary_accuracy did not improve from 0.89120\n",
            "Epoch 7/20\n",
            "30/30 [==============================] - 1s 20ms/step - loss: 0.1306 - binary_accuracy: 0.9630 - val_loss: 0.2820 - val_binary_accuracy: 0.8855\n",
            "\n",
            "Epoch 00007: val_binary_accuracy did not improve from 0.89120\n",
            "Epoch 8/20\n",
            "30/30 [==============================] - 1s 20ms/step - loss: 0.1150 - binary_accuracy: 0.9681 - val_loss: 0.2862 - val_binary_accuracy: 0.8853\n",
            "\n",
            "Epoch 00008: val_binary_accuracy did not improve from 0.89120\n"
          ]
        }
      ]
    },
    {
      "cell_type": "code",
      "metadata": {
        "colab": {
          "base_uri": "https://localhost:8080/",
          "height": 300
        },
        "id": "Su-VQnvOueIS",
        "outputId": "4a5cfedf-00f8-4e6a-b7cd-246527629a86"
      },
      "source": [
        "model.load_weights(checkpoint_path)\n",
        "results = model.evaluate(x_test, y_test)\n",
        "\n",
        "graph()"
      ],
      "execution_count": 18,
      "outputs": [
        {
          "output_type": "stream",
          "name": "stdout",
          "text": [
            "782/782 [==============================] - 3s 3ms/step - loss: 0.2924 - binary_accuracy: 0.8851\n"
          ]
        },
        {
          "output_type": "display_data",
          "data": {
            "image/png": "[encoded data removed]",
            "text/plain": [
              "<Figure size 864x288 with 2 Axes>"
            ]
          },
          "metadata": {
            "needs_background": "light"
          }
        }
      ]
    },
    {
      "cell_type": "markdown",
      "metadata": {
        "id": "I1dYeKZrA9Zt"
      },
      "source": [
        "## 4. Change loss function\n",
        "- Hidden layer : 2\n",
        "- Optimizer : rmsprop\n",
        "- Loss : ***MSE***\n",
        "- Metrics : accuracy\n",
        "- Activation : relu\n",
        "- Learning rate : 0.001\n",
        "- Epochs : 20\n",
        "- Batch_size : 512\n",
        "- Early stopping, check point\n",
        "\n",
        "#### Result > Loss: 0.1015 / Accuracy: 0.8828"
      ]
    },
    {
      "cell_type": "code",
      "metadata": {
        "id": "G9y84WUfBcIu"
      },
      "source": [
        "model = models.Sequential()\n",
        "model.add(layers.Dense(16, activation='relu', input_shape=(10000,)))\n",
        "model.add(layers.Dense(16, activation='relu'))\n",
        "model.add(layers.Dense(1, activation='sigmoid'))\n",
        "\n",
        "\n",
        "model.compile(optimizer='rmsprop', # RMSprop - 기울기 단순 누적X, 지수 가중 이동 평균을 사용하여 최신 기울기들이 더 크게 반영되도록\n",
        "loss='mse',\n",
        "metrics=['accuracy'])"
      ],
      "execution_count": 19,
      "outputs": []
    },
    {
      "cell_type": "code",
      "metadata": {
        "id": "caH6JNpYBi06"
      },
      "source": [
        "model.compile(optimizer=optimizers.RMSprop(learning_rate=0.001),\n",
        "loss='mse',\n",
        "metrics=['accuracy'])\n",
        "\n",
        "model.compile(optimizer=optimizers.RMSprop(learning_rate=0.001),\n",
        "loss=losses.mse,\n",
        "metrics=[metrics.binary_accuracy])"
      ],
      "execution_count": 20,
      "outputs": []
    },
    {
      "cell_type": "code",
      "metadata": {
        "id": "AKPHK37MBmr9"
      },
      "source": [
        "x_val = x_train[:10000]\n",
        "partial_x_train = x_train[10000:]\n",
        "y_val = y_train[:10000]\n",
        "partial_y_train = y_train[10000:]"
      ],
      "execution_count": 21,
      "outputs": []
    },
    {
      "cell_type": "code",
      "metadata": {
        "colab": {
          "base_uri": "https://localhost:8080/"
        },
        "id": "GqqraDfMBqAv",
        "outputId": "42b812cb-ba44-45b2-8cad-ce48ffbdfc39"
      },
      "source": [
        "checkpoint_path = './check.h5'\n",
        "\n",
        "cp = ModelCheckpoint(filepath=checkpoint_path,\n",
        "                                save_weights_only=True,\n",
        "                                save_best_only=True,\n",
        "                                monitor='val_binary_accuracy',\n",
        "                                verbose=1)\n",
        "\n",
        "es = EarlyStopping(monitor='val_loss', patience=3)\n",
        "\n",
        "history = model.fit(partial_x_train,\n",
        "partial_y_train,\n",
        "epochs=20,\n",
        "batch_size=512,\n",
        "validation_data=(x_val, y_val),\n",
        "callbacks=[cp, es])"
      ],
      "execution_count": 22,
      "outputs": [
        {
          "output_type": "stream",
          "name": "stdout",
          "text": [
            "Epoch 1/20\n",
            "30/30 [==============================] - 2s 34ms/step - loss: 0.1783 - binary_accuracy: 0.7823 - val_loss: 0.1256 - val_binary_accuracy: 0.8720\n",
            "\n",
            "Epoch 00001: val_binary_accuracy improved from -inf to 0.87200, saving model to ./check.h5\n",
            "Epoch 2/20\n",
            "30/30 [==============================] - 1s 21ms/step - loss: 0.0978 - binary_accuracy: 0.8994 - val_loss: 0.0960 - val_binary_accuracy: 0.8896\n",
            "\n",
            "Epoch 00002: val_binary_accuracy improved from 0.87200 to 0.88960, saving model to ./check.h5\n",
            "Epoch 3/20\n",
            "30/30 [==============================] - 1s 20ms/step - loss: 0.0685 - binary_accuracy: 0.9291 - val_loss: 0.0906 - val_binary_accuracy: 0.8854\n",
            "\n",
            "Epoch 00003: val_binary_accuracy did not improve from 0.88960\n",
            "Epoch 4/20\n",
            "30/30 [==============================] - 1s 21ms/step - loss: 0.0528 - binary_accuracy: 0.9463 - val_loss: 0.0858 - val_binary_accuracy: 0.8865\n",
            "\n",
            "Epoch 00004: val_binary_accuracy did not improve from 0.88960\n",
            "Epoch 5/20\n",
            "30/30 [==============================] - 1s 20ms/step - loss: 0.0430 - binary_accuracy: 0.9565 - val_loss: 0.0824 - val_binary_accuracy: 0.8868\n",
            "\n",
            "Epoch 00005: val_binary_accuracy did not improve from 0.88960\n",
            "Epoch 6/20\n",
            "30/30 [==============================] - 1s 21ms/step - loss: 0.0343 - binary_accuracy: 0.9665 - val_loss: 0.0833 - val_binary_accuracy: 0.8869\n",
            "\n",
            "Epoch 00006: val_binary_accuracy did not improve from 0.88960\n",
            "Epoch 7/20\n",
            "30/30 [==============================] - 1s 21ms/step - loss: 0.0288 - binary_accuracy: 0.9723 - val_loss: 0.0893 - val_binary_accuracy: 0.8794\n",
            "\n",
            "Epoch 00007: val_binary_accuracy did not improve from 0.88960\n",
            "Epoch 8/20\n",
            "30/30 [==============================] - 1s 20ms/step - loss: 0.0239 - binary_accuracy: 0.9783 - val_loss: 0.0873 - val_binary_accuracy: 0.8794\n",
            "\n",
            "Epoch 00008: val_binary_accuracy did not improve from 0.88960\n"
          ]
        }
      ]
    },
    {
      "cell_type": "code",
      "metadata": {
        "colab": {
          "base_uri": "https://localhost:8080/",
          "height": 300
        },
        "id": "YehBpf8hBvPY",
        "outputId": "bfccf6a8-324b-44f6-9dcb-5353f977015a"
      },
      "source": [
        "model.load_weights(checkpoint_path)\n",
        "results = model.evaluate(x_test, y_test)\n",
        "\n",
        "graph()"
      ],
      "execution_count": 23,
      "outputs": [
        {
          "output_type": "stream",
          "name": "stdout",
          "text": [
            "782/782 [==============================] - 2s 3ms/step - loss: 0.1015 - binary_accuracy: 0.8828\n"
          ]
        },
        {
          "output_type": "display_data",
          "data": {
            "image/png": "[encoded data removed]",
            "text/plain": [
              "<Figure size 864x288 with 2 Axes>"
            ]
          },
          "metadata": {
            "needs_background": "light"
          }
        }
      ]
    },
    {
      "cell_type": "markdown",
      "metadata": {
        "id": "EzuCtuiiBUnf"
      },
      "source": [
        "## 5. Change activation function\n",
        "- Hidden layer : 2\n",
        "- Optimizer : rmsprop\n",
        "- Loss : binary_crossentropy\n",
        "- Metrics : accuracy\n",
        "- Activation : ***tanh***\n",
        "- Learning rate : 0.001\n",
        "- Epochs : 20\n",
        "- Batch_size : 512\n",
        "- Early stopping, check point\n",
        "\n",
        "#### Result > Loss: 0.2938 / Accuracy: 0.8789"
      ]
    },
    {
      "cell_type": "code",
      "metadata": {
        "id": "Ca-X13pjDWDB"
      },
      "source": [
        "model = models.Sequential()\n",
        "model.add(layers.Dense(16, activation='tanh', input_shape=(10000,)))\n",
        "model.add(layers.Dense(16, activation='tanh'))\n",
        "model.add(layers.Dense(1, activation='sigmoid'))\n",
        "\n",
        "\n",
        "model.compile(optimizer='rmsprop', # RMSprop - 기울기 단순 누적X, 지수 가중 이동 평균을 사용하여 최신 기울기들이 더 크게 반영되도록\n",
        "loss='binary_crossentropy',\n",
        "metrics=['accuracy'])"
      ],
      "execution_count": 24,
      "outputs": []
    },
    {
      "cell_type": "code",
      "metadata": {
        "id": "kw7ArYpCDX2P"
      },
      "source": [
        "model.compile(optimizer=optimizers.RMSprop(learning_rate=0.001),\n",
        "loss='binary_crossentropy',\n",
        "metrics=['accuracy'])\n",
        "\n",
        "model.compile(optimizer=optimizers.RMSprop(learning_rate=0.001),\n",
        "loss=losses.binary_crossentropy,\n",
        "metrics=[metrics.binary_accuracy])"
      ],
      "execution_count": 25,
      "outputs": []
    },
    {
      "cell_type": "code",
      "metadata": {
        "id": "mr1cUpSsDZfr"
      },
      "source": [
        "x_val = x_train[:10000]\n",
        "partial_x_train = x_train[10000:]\n",
        "y_val = y_train[:10000]\n",
        "partial_y_train = y_train[10000:]"
      ],
      "execution_count": 26,
      "outputs": []
    },
    {
      "cell_type": "code",
      "metadata": {
        "colab": {
          "base_uri": "https://localhost:8080/"
        },
        "id": "B1tGkU-FDbNp",
        "outputId": "beaaf877-10ea-41da-8c4e-3c9b88bee10f"
      },
      "source": [
        "checkpoint_path = './check.h5'\n",
        "\n",
        "cp = ModelCheckpoint(filepath=checkpoint_path,\n",
        "                                save_weights_only=True,\n",
        "                                save_best_only=True,\n",
        "                                monitor='val_binary_accuracy',\n",
        "                                verbose=1)\n",
        "\n",
        "es = EarlyStopping(monitor='val_loss', patience=3)\n",
        "\n",
        "history = model.fit(partial_x_train,\n",
        "partial_y_train,\n",
        "epochs=20,\n",
        "batch_size=512,\n",
        "validation_data=(x_val, y_val),\n",
        "callbacks=[cp, es])"
      ],
      "execution_count": 27,
      "outputs": [
        {
          "output_type": "stream",
          "name": "stdout",
          "text": [
            "Epoch 1/20\n",
            "30/30 [==============================] - 2s 35ms/step - loss: 0.4987 - binary_accuracy: 0.7940 - val_loss: 0.3689 - val_binary_accuracy: 0.8704\n",
            "\n",
            "Epoch 00001: val_binary_accuracy improved from -inf to 0.87040, saving model to ./check.h5\n",
            "Epoch 2/20\n",
            "30/30 [==============================] - 1s 21ms/step - loss: 0.2837 - binary_accuracy: 0.9074 - val_loss: 0.2901 - val_binary_accuracy: 0.8871\n",
            "\n",
            "Epoch 00002: val_binary_accuracy improved from 0.87040 to 0.88710, saving model to ./check.h5\n",
            "Epoch 3/20\n",
            "30/30 [==============================] - 1s 24ms/step - loss: 0.1953 - binary_accuracy: 0.9359 - val_loss: 0.2753 - val_binary_accuracy: 0.8875\n",
            "\n",
            "Epoch 00003: val_binary_accuracy improved from 0.88710 to 0.88750, saving model to ./check.h5\n",
            "Epoch 4/20\n",
            "30/30 [==============================] - 1s 20ms/step - loss: 0.1497 - binary_accuracy: 0.9501 - val_loss: 0.2790 - val_binary_accuracy: 0.8862\n",
            "\n",
            "Epoch 00004: val_binary_accuracy did not improve from 0.88750\n",
            "Epoch 5/20\n",
            "30/30 [==============================] - 1s 21ms/step - loss: 0.1132 - binary_accuracy: 0.9639 - val_loss: 0.3229 - val_binary_accuracy: 0.8748\n",
            "\n",
            "Epoch 00005: val_binary_accuracy did not improve from 0.88750\n",
            "Epoch 6/20\n",
            "30/30 [==============================] - 1s 20ms/step - loss: 0.0923 - binary_accuracy: 0.9703 - val_loss: 0.3603 - val_binary_accuracy: 0.8715\n",
            "\n",
            "Epoch 00006: val_binary_accuracy did not improve from 0.88750\n"
          ]
        }
      ]
    },
    {
      "cell_type": "code",
      "metadata": {
        "colab": {
          "base_uri": "https://localhost:8080/",
          "height": 300
        },
        "id": "wJFRyhTYDc5a",
        "outputId": "efc178d0-b8de-4d0b-cf69-75a6208d131a"
      },
      "source": [
        "model.load_weights(checkpoint_path)\n",
        "results = model.evaluate(x_test, y_test)\n",
        "\n",
        "graph()"
      ],
      "execution_count": 28,
      "outputs": [
        {
          "output_type": "stream",
          "name": "stdout",
          "text": [
            "782/782 [==============================] - 2s 3ms/step - loss: 0.2938 - binary_accuracy: 0.8789\n"
          ]
        },
        {
          "output_type": "display_data",
          "data": {
            "image/png": "[encoded data removed]",
            "text/plain": [
              "<Figure size 864x288 with 2 Axes>"
            ]
          },
          "metadata": {
            "needs_background": "light"
          }
        }
      ]
    },
    {
      "cell_type": "markdown",
      "metadata": {
        "id": "kEtglXP1fI94"
      },
      "source": [
        "## 6. Change learning rate\n",
        "- Hidden layer : 2\n",
        "- Optimizer : rmsprop\n",
        "- Loss : binary_crossentropy\n",
        "- Metrics : accuracy\n",
        "- Activation : relu\n",
        "- Learning rate : ***0.00001***\n",
        "- Epochs : 20\n",
        "- Batch_size : 512\n",
        "- Early stopping, check point\n",
        "\n",
        "#### Result > Loss: 0.6315 / Accuracy: 0.7304"
      ]
    },
    {
      "cell_type": "code",
      "metadata": {
        "id": "4sul6AmwfIIh"
      },
      "source": [
        "model = models.Sequential()\n",
        "model.add(layers.Dense(16, activation='relu', input_shape=(10000,)))\n",
        "model.add(layers.Dense(16, activation='relu'))\n",
        "model.add(layers.Dense(1, activation='sigmoid'))\n",
        "\n",
        "\n",
        "model.compile(optimizer='rmsprop', # RMSprop - 기울기 단순 누적X, 지수 가중 이동 평균을 사용하여 최신 기울기들이 더 크게 반영되도록\n",
        "loss='binary_crossentropy',\n",
        "metrics=['accuracy'])"
      ],
      "execution_count": 29,
      "outputs": []
    },
    {
      "cell_type": "code",
      "metadata": {
        "id": "9B1PUhMSfYXl"
      },
      "source": [
        "model.compile(optimizer=optimizers.RMSprop(learning_rate=0.00001),\n",
        "loss='binary_crossentropy',\n",
        "metrics=['accuracy'])\n",
        "\n",
        "model.compile(optimizer=optimizers.RMSprop(learning_rate=0.00001),\n",
        "loss=losses.binary_crossentropy,\n",
        "metrics=[metrics.binary_accuracy])"
      ],
      "execution_count": 30,
      "outputs": []
    },
    {
      "cell_type": "code",
      "metadata": {
        "id": "GeQDxzxUfakj"
      },
      "source": [
        "x_val = x_train[:10000]\n",
        "partial_x_train = x_train[10000:]\n",
        "y_val = y_train[:10000]\n",
        "partial_y_train = y_train[10000:]"
      ],
      "execution_count": 31,
      "outputs": []
    },
    {
      "cell_type": "code",
      "metadata": {
        "colab": {
          "base_uri": "https://localhost:8080/"
        },
        "id": "X04Ha-TQfc3L",
        "outputId": "f0a4cc24-dd00-4073-9ed9-c325fccc30b3"
      },
      "source": [
        "checkpoint_path = './check.h5'\n",
        "\n",
        "cp = ModelCheckpoint(filepath=checkpoint_path,\n",
        "                                save_weights_only=True,\n",
        "                                save_best_only=True,\n",
        "                                monitor='val_binary_accuracy',\n",
        "                                verbose=1)\n",
        "\n",
        "es = EarlyStopping(monitor='val_loss', patience=3)\n",
        "\n",
        "history = model.fit(partial_x_train,\n",
        "partial_y_train,\n",
        "epochs=20,\n",
        "batch_size=512,\n",
        "validation_data=(x_val, y_val),\n",
        "callbacks=[cp, es])"
      ],
      "execution_count": 32,
      "outputs": [
        {
          "output_type": "stream",
          "name": "stdout",
          "text": [
            "Epoch 1/20\n",
            "30/30 [==============================] - 2s 35ms/step - loss: 0.6922 - binary_accuracy: 0.5154 - val_loss: 0.6921 - val_binary_accuracy: 0.5185\n",
            "\n",
            "Epoch 00001: val_binary_accuracy improved from -inf to 0.51850, saving model to ./check.h5\n",
            "Epoch 2/20\n",
            "30/30 [==============================] - 1s 21ms/step - loss: 0.6899 - binary_accuracy: 0.5371 - val_loss: 0.6904 - val_binary_accuracy: 0.5324\n",
            "\n",
            "Epoch 00002: val_binary_accuracy improved from 0.51850 to 0.53240, saving model to ./check.h5\n",
            "Epoch 3/20\n",
            "30/30 [==============================] - 1s 20ms/step - loss: 0.6879 - binary_accuracy: 0.5553 - val_loss: 0.6887 - val_binary_accuracy: 0.5448\n",
            "\n",
            "Epoch 00003: val_binary_accuracy improved from 0.53240 to 0.54480, saving model to ./check.h5\n",
            "Epoch 4/20\n",
            "30/30 [==============================] - 1s 20ms/step - loss: 0.6856 - binary_accuracy: 0.5726 - val_loss: 0.6868 - val_binary_accuracy: 0.5605\n",
            "\n",
            "Epoch 00004: val_binary_accuracy improved from 0.54480 to 0.56050, saving model to ./check.h5\n",
            "Epoch 5/20\n",
            "30/30 [==============================] - 1s 21ms/step - loss: 0.6832 - binary_accuracy: 0.5873 - val_loss: 0.6846 - val_binary_accuracy: 0.5775\n",
            "\n",
            "Epoch 00005: val_binary_accuracy improved from 0.56050 to 0.57750, saving model to ./check.h5\n",
            "Epoch 6/20\n",
            "30/30 [==============================] - 1s 21ms/step - loss: 0.6806 - binary_accuracy: 0.6021 - val_loss: 0.6823 - val_binary_accuracy: 0.5909\n",
            "\n",
            "Epoch 00006: val_binary_accuracy improved from 0.57750 to 0.59090, saving model to ./check.h5\n",
            "Epoch 7/20\n",
            "30/30 [==============================] - 1s 20ms/step - loss: 0.6778 - binary_accuracy: 0.6173 - val_loss: 0.6798 - val_binary_accuracy: 0.6032\n",
            "\n",
            "Epoch 00007: val_binary_accuracy improved from 0.59090 to 0.60320, saving model to ./check.h5\n",
            "Epoch 8/20\n",
            "30/30 [==============================] - 1s 20ms/step - loss: 0.6747 - binary_accuracy: 0.6288 - val_loss: 0.6771 - val_binary_accuracy: 0.6194\n",
            "\n",
            "Epoch 00008: val_binary_accuracy improved from 0.60320 to 0.61940, saving model to ./check.h5\n",
            "Epoch 9/20\n",
            "30/30 [==============================] - 1s 21ms/step - loss: 0.6715 - binary_accuracy: 0.6428 - val_loss: 0.6741 - val_binary_accuracy: 0.6332\n",
            "\n",
            "Epoch 00009: val_binary_accuracy improved from 0.61940 to 0.63320, saving model to ./check.h5\n",
            "Epoch 10/20\n",
            "30/30 [==============================] - 1s 21ms/step - loss: 0.6680 - binary_accuracy: 0.6575 - val_loss: 0.6709 - val_binary_accuracy: 0.6422\n",
            "\n",
            "Epoch 00010: val_binary_accuracy improved from 0.63320 to 0.64220, saving model to ./check.h5\n",
            "Epoch 11/20\n",
            "30/30 [==============================] - 1s 21ms/step - loss: 0.6643 - binary_accuracy: 0.6697 - val_loss: 0.6674 - val_binary_accuracy: 0.6514\n",
            "\n",
            "Epoch 00011: val_binary_accuracy improved from 0.64220 to 0.65140, saving model to ./check.h5\n",
            "Epoch 12/20\n",
            "30/30 [==============================] - 1s 20ms/step - loss: 0.6603 - binary_accuracy: 0.6814 - val_loss: 0.6637 - val_binary_accuracy: 0.6660\n",
            "\n",
            "Epoch 00012: val_binary_accuracy improved from 0.65140 to 0.66600, saving model to ./check.h5\n",
            "Epoch 13/20\n",
            "30/30 [==============================] - 1s 20ms/step - loss: 0.6562 - binary_accuracy: 0.6950 - val_loss: 0.6599 - val_binary_accuracy: 0.6791\n",
            "\n",
            "Epoch 00013: val_binary_accuracy improved from 0.66600 to 0.67910, saving model to ./check.h5\n",
            "Epoch 14/20\n",
            "30/30 [==============================] - 1s 20ms/step - loss: 0.6519 - binary_accuracy: 0.7081 - val_loss: 0.6559 - val_binary_accuracy: 0.6897\n",
            "\n",
            "Epoch 00014: val_binary_accuracy improved from 0.67910 to 0.68970, saving model to ./check.h5\n",
            "Epoch 15/20\n",
            "30/30 [==============================] - 1s 25ms/step - loss: 0.6475 - binary_accuracy: 0.7185 - val_loss: 0.6518 - val_binary_accuracy: 0.6981\n",
            "\n",
            "Epoch 00015: val_binary_accuracy improved from 0.68970 to 0.69810, saving model to ./check.h5\n",
            "Epoch 16/20\n",
            "30/30 [==============================] - 1s 21ms/step - loss: 0.6428 - binary_accuracy: 0.7303 - val_loss: 0.6476 - val_binary_accuracy: 0.7057\n",
            "\n",
            "Epoch 00016: val_binary_accuracy improved from 0.69810 to 0.70570, saving model to ./check.h5\n",
            "Epoch 17/20\n",
            "30/30 [==============================] - 1s 20ms/step - loss: 0.6382 - binary_accuracy: 0.7393 - val_loss: 0.6434 - val_binary_accuracy: 0.7126\n",
            "\n",
            "Epoch 00017: val_binary_accuracy improved from 0.70570 to 0.71260, saving model to ./check.h5\n",
            "Epoch 18/20\n",
            "30/30 [==============================] - 1s 21ms/step - loss: 0.6334 - binary_accuracy: 0.7459 - val_loss: 0.6390 - val_binary_accuracy: 0.7209\n",
            "\n",
            "Epoch 00018: val_binary_accuracy improved from 0.71260 to 0.72090, saving model to ./check.h5\n",
            "Epoch 19/20\n",
            "30/30 [==============================] - 1s 21ms/step - loss: 0.6285 - binary_accuracy: 0.7531 - val_loss: 0.6346 - val_binary_accuracy: 0.7287\n",
            "\n",
            "Epoch 00019: val_binary_accuracy improved from 0.72090 to 0.72870, saving model to ./check.h5\n",
            "Epoch 20/20\n",
            "30/30 [==============================] - 1s 20ms/step - loss: 0.6235 - binary_accuracy: 0.7603 - val_loss: 0.6300 - val_binary_accuracy: 0.7359\n",
            "\n",
            "Epoch 00020: val_binary_accuracy improved from 0.72870 to 0.73590, saving model to ./check.h5\n"
          ]
        }
      ]
    },
    {
      "cell_type": "code",
      "metadata": {
        "colab": {
          "base_uri": "https://localhost:8080/",
          "height": 300
        },
        "id": "E1_i-DFmfeft",
        "outputId": "c53f6776-eefc-4024-d5cb-55499afc3977"
      },
      "source": [
        "model.load_weights(checkpoint_path)\n",
        "results = model.evaluate(x_test, y_test)\n",
        "\n",
        "graph()"
      ],
      "execution_count": 33,
      "outputs": [
        {
          "output_type": "stream",
          "name": "stdout",
          "text": [
            "782/782 [==============================] - 2s 3ms/step - loss: 0.6315 - binary_accuracy: 0.7304\n"
          ]
        },
        {
          "output_type": "display_data",
          "data": {
            "image/png": "[encoded data removed]",
            "text/plain": [
              "<Figure size 864x288 with 2 Axes>"
            ]
          },
          "metadata": {
            "needs_background": "light"
          }
        }
      ]
    },
    {
      "cell_type": "code",
      "metadata": {
        "id": "0quoEXbIfpjH"
      },
      "source": [
        ""
      ],
      "execution_count": 33,
      "outputs": []
    }
  ]
}