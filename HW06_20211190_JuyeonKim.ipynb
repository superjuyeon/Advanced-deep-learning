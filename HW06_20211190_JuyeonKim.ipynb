{
  "nbformat": 4,
  "nbformat_minor": 0,
  "metadata": {
    "colab": {
      "name": "HW06_20211190_JuyeonKim.ipynb",
      "provenance": [],
      "collapsed_sections": [
        "dIq7LEmhG98W",
        "A6DFMZ5Vg02u"
      ]
    },
    "kernelspec": {
      "name": "python3",
      "display_name": "Python 3"
    },
    "language_info": {
      "name": "python"
    },
    "accelerator": "GPU"
  },
  "cells": [
    {
      "cell_type": "code",
      "metadata": {
        "id": "fG5kcg0ntVSF"
      },
      "source": [
        "from keras.datasets import imdb\n",
        "from keras import preprocessing\n",
        "from keras.models import Sequential\n",
        "from keras.layers import Flatten, Dense, Embedding, SimpleRNN, LSTM, GRU\n",
        "from keras.preprocessing import sequence\n",
        "import matplotlib.pyplot as plt\n",
        "from keras.callbacks import ModelCheckpoint, EarlyStopping\n",
        "from keras.datasets import reuters\n",
        "import numpy as np\n",
        "from keras.utils.np_utils import to_categorical\n",
        "from keras import models\n",
        "from keras import layers"
      ],
      "execution_count": null,
      "outputs": []
    },
    {
      "cell_type": "code",
      "metadata": {
        "id": "Kqkn8N-PtmGX"
      },
      "source": [
        "# graph function\n",
        "def graph():\n",
        "    plt.figure(figsize = (12,4))\n",
        "    \n",
        "    plt.subplot(1,2,1)\n",
        "    plt.plot(history.history['loss'], 'b-', label = 'loss')\n",
        "    plt.plot(history.history['val_loss'], 'y--', label = 'val_loss')\n",
        "    plt.xlabel('Epoch')\n",
        "    plt.legend()\n",
        "\n",
        "    plt.subplot(1,2,2)\n",
        "    plt.plot(history.history['accuracy'], 'g-', label = 'accuracy')\n",
        "    plt.plot(history.history['val_accuracy'], 'r--', label = 'val_accuracy')\n",
        "    plt.xlabel('Epoch')\n",
        "    plt.ylim([0.2, 1])\n",
        "    plt.legend()\n",
        "\n",
        "    return plt.show()"
      ],
      "execution_count": null,
      "outputs": []
    },
    {
      "cell_type": "markdown",
      "metadata": {
        "id": "mWVnVAz-tqNb"
      },
      "source": [
        "#IMDB dataset"
      ]
    },
    {
      "cell_type": "code",
      "metadata": {
        "id": "XRlYuKBwtnA8"
      },
      "source": [
        "# load dataset\n",
        "max_features = 10000\n",
        "maxlen = 500\n",
        "\n",
        "(x_train, y_train), (x_test, y_test) = imdb.load_data(num_words=max_features)\n",
        "\n",
        "x_train = preprocessing.sequence.pad_sequences(x_train, maxlen=maxlen)\n",
        "x_test = preprocessing.sequence.pad_sequences(x_test, maxlen=maxlen)"
      ],
      "execution_count": null,
      "outputs": []
    },
    {
      "cell_type": "markdown",
      "metadata": {
        "id": "JDEenQkkttk8"
      },
      "source": [
        "##Baseline : acc = 0.8765"
      ]
    },
    {
      "cell_type": "code",
      "metadata": {
        "colab": {
          "base_uri": "https://localhost:8080/"
        },
        "id": "TkHYodNrtvkW",
        "outputId": "17e1eec0-0f60-4eb7-c61b-7da837e5b809"
      },
      "source": [
        "model = Sequential()\n",
        "model.add(Embedding(10000, 8, input_length=maxlen))\n",
        "model.add(Flatten())\n",
        "model.add(Dense(1, activation='sigmoid'))\n",
        "model.compile(optimizer='rmsprop', loss='binary_crossentropy', metrics=['acc'])\n",
        "model.summary()\n",
        "history = model.fit(x_train, y_train,\n",
        "                    epochs=10,\n",
        "                    batch_size=32,\n",
        "                    validation_split=0.2)"
      ],
      "execution_count": null,
      "outputs": [
        {
          "output_type": "stream",
          "name": "stdout",
          "text": [
            "Model: \"sequential_5\"\n",
            "_________________________________________________________________\n",
            "Layer (type)                 Output Shape              Param #   \n",
            "=================================================================\n",
            "embedding_5 (Embedding)      (None, 500, 8)            80000     \n",
            "_________________________________________________________________\n",
            "flatten_1 (Flatten)          (None, 4000)              0         \n",
            "_________________________________________________________________\n",
            "dense_5 (Dense)              (None, 1)                 4001      \n",
            "=================================================================\n",
            "Total params: 84,001\n",
            "Trainable params: 84,001\n",
            "Non-trainable params: 0\n",
            "_________________________________________________________________\n",
            "Epoch 1/10\n",
            "625/625 [==============================] - 4s 6ms/step - loss: 0.5632 - acc: 0.7155 - val_loss: 0.3709 - val_acc: 0.8528\n",
            "Epoch 2/10\n",
            "625/625 [==============================] - 3s 5ms/step - loss: 0.2853 - acc: 0.8892 - val_loss: 0.2845 - val_acc: 0.8878\n",
            "Epoch 3/10\n",
            "625/625 [==============================] - 3s 5ms/step - loss: 0.2197 - acc: 0.9155 - val_loss: 0.2712 - val_acc: 0.8866\n",
            "Epoch 4/10\n",
            "625/625 [==============================] - 3s 5ms/step - loss: 0.1870 - acc: 0.9292 - val_loss: 0.2684 - val_acc: 0.8908\n",
            "Epoch 5/10\n",
            "625/625 [==============================] - 3s 5ms/step - loss: 0.1644 - acc: 0.9394 - val_loss: 0.2766 - val_acc: 0.8900\n",
            "Epoch 6/10\n",
            "625/625 [==============================] - 3s 5ms/step - loss: 0.1465 - acc: 0.9460 - val_loss: 0.3011 - val_acc: 0.8838\n",
            "Epoch 7/10\n",
            "625/625 [==============================] - 3s 5ms/step - loss: 0.1316 - acc: 0.9525 - val_loss: 0.2929 - val_acc: 0.8922\n",
            "Epoch 8/10\n",
            "625/625 [==============================] - 3s 5ms/step - loss: 0.1173 - acc: 0.9585 - val_loss: 0.3082 - val_acc: 0.8856\n",
            "Epoch 9/10\n",
            "625/625 [==============================] - 3s 5ms/step - loss: 0.1044 - acc: 0.9633 - val_loss: 0.3197 - val_acc: 0.8884\n",
            "Epoch 10/10\n",
            "625/625 [==============================] - 3s 5ms/step - loss: 0.0918 - acc: 0.9682 - val_loss: 0.3297 - val_acc: 0.8868\n"
          ]
        }
      ]
    },
    {
      "cell_type": "code",
      "metadata": {
        "colab": {
          "base_uri": "https://localhost:8080/",
          "height": 300
        },
        "id": "kL61nWqEtxLm",
        "outputId": "1073b19c-7036-426b-e800-539847a38574"
      },
      "source": [
        "results = model.evaluate(x_test, y_test)\n",
        "graph()"
      ],
      "execution_count": null,
      "outputs": [
        {
          "output_type": "stream",
          "name": "stdout",
          "text": [
            "782/782 [==============================] - 2s 3ms/step - loss: 0.3429 - acc: 0.8765\n"
          ]
        },
        {
          "output_type": "display_data",
          "data": {
            "image/png": "[encoded data removed]",
            "text/plain": [
              "<Figure size 864x288 with 2 Axes>"
            ]
          },
          "metadata": {
            "needs_background": "light"
          }
        }
      ]
    },
    {
      "cell_type": "markdown",
      "metadata": {
        "id": "1zqW8vGbvBin"
      },
      "source": [
        "##Using RNN : acc = 0.8641 "
      ]
    },
    {
      "cell_type": "code",
      "metadata": {
        "colab": {
          "base_uri": "https://localhost:8080/"
        },
        "id": "ivdbiHMkt1hy",
        "outputId": "c6420d9e-b37f-49b8-cf2b-7df912f07c52"
      },
      "source": [
        "max_features = 10000  \n",
        "maxlen = 500  \n",
        "batch_size = 32\n",
        "\n",
        "print(len(x_train), 'train sequences')\n",
        "print(len(x_test), 'test sequences')\n",
        "print('Pad sequences (samples x time)')\n",
        "x_train = sequence.pad_sequences(x_train, maxlen=maxlen)\n",
        "x_test = sequence.pad_sequences(x_test, maxlen=maxlen)\n",
        "print('x_train shape:', x_train.shape)\n",
        "print('x_test shape:', x_test.shape)"
      ],
      "execution_count": null,
      "outputs": [
        {
          "output_type": "stream",
          "name": "stdout",
          "text": [
            "25000 train sequences\n",
            "25000 test sequences\n",
            "Pad sequences (samples x time)\n",
            "x_train shape: (25000, 500)\n",
            "x_test shape: (25000, 500)\n"
          ]
        }
      ]
    },
    {
      "cell_type": "code",
      "metadata": {
        "colab": {
          "base_uri": "https://localhost:8080/"
        },
        "id": "tVg81GvB0DWi",
        "outputId": "87ea84ea-f748-4d4b-f7b6-ae65ad778a0d"
      },
      "source": [
        "model = Sequential()\n",
        "model.add(Embedding(10000, 8, input_length=maxlen))\n",
        "model.add(SimpleRNN(32))\n",
        "model.add(Dense(1, activation='sigmoid'))\n",
        "model.summary()\n",
        "model.compile(optimizer='rmsprop', loss='binary_crossentropy', metrics=['acc'])\n",
        "history = model.fit(x_train, y_train,\n",
        "                    epochs=10,\n",
        "                    batch_size=32,\n",
        "                    validation_split=0.2)"
      ],
      "execution_count": null,
      "outputs": [
        {
          "output_type": "stream",
          "name": "stdout",
          "text": [
            "Model: \"sequential_4\"\n",
            "_________________________________________________________________\n",
            "Layer (type)                 Output Shape              Param #   \n",
            "=================================================================\n",
            "embedding_4 (Embedding)      (None, 500, 8)            80000     \n",
            "_________________________________________________________________\n",
            "simple_rnn_3 (SimpleRNN)     (None, 32)                1312      \n",
            "_________________________________________________________________\n",
            "dense_4 (Dense)              (None, 1)                 33        \n",
            "=================================================================\n",
            "Total params: 81,345\n",
            "Trainable params: 81,345\n",
            "Non-trainable params: 0\n",
            "_________________________________________________________________\n",
            "Epoch 1/10\n",
            "625/625 [==============================] - 348s 555ms/step - loss: 0.6675 - acc: 0.5710 - val_loss: 0.5068 - val_acc: 0.7570\n",
            "Epoch 2/10\n",
            "625/625 [==============================] - 346s 554ms/step - loss: 0.4117 - acc: 0.8238 - val_loss: 0.9369 - val_acc: 0.6352\n",
            "Epoch 3/10\n",
            "625/625 [==============================] - 348s 557ms/step - loss: 0.3294 - acc: 0.8675 - val_loss: 0.3632 - val_acc: 0.8480\n",
            "Epoch 4/10\n",
            "625/625 [==============================] - 344s 551ms/step - loss: 0.3034 - acc: 0.8795 - val_loss: 0.3587 - val_acc: 0.8482\n",
            "Epoch 5/10\n",
            "625/625 [==============================] - 345s 552ms/step - loss: 0.2685 - acc: 0.8963 - val_loss: 0.3399 - val_acc: 0.8658\n",
            "Epoch 6/10\n",
            "625/625 [==============================] - 342s 547ms/step - loss: 0.2523 - acc: 0.9038 - val_loss: 0.4219 - val_acc: 0.8426\n",
            "Epoch 7/10\n",
            "625/625 [==============================] - 337s 539ms/step - loss: 0.2478 - acc: 0.9046 - val_loss: 0.3344 - val_acc: 0.8704\n",
            "Epoch 8/10\n",
            "625/625 [==============================] - 341s 545ms/step - loss: 0.2199 - acc: 0.9168 - val_loss: 0.3613 - val_acc: 0.8390\n",
            "Epoch 9/10\n",
            "625/625 [==============================] - 339s 542ms/step - loss: 0.2187 - acc: 0.9184 - val_loss: 0.3484 - val_acc: 0.8714\n",
            "Epoch 10/10\n",
            "625/625 [==============================] - 337s 540ms/step - loss: 0.2026 - acc: 0.9270 - val_loss: 0.3504 - val_acc: 0.8726\n"
          ]
        }
      ]
    },
    {
      "cell_type": "code",
      "metadata": {
        "colab": {
          "base_uri": "https://localhost:8080/",
          "height": 300
        },
        "id": "lsWtV3sN0DSH",
        "outputId": "80d51705-14b0-4e4f-b28a-d6dcbdc59f79"
      },
      "source": [
        "results = model.evaluate(x_test, y_test)\n",
        "graph()"
      ],
      "execution_count": null,
      "outputs": [
        {
          "output_type": "stream",
          "name": "stdout",
          "text": [
            "782/782 [==============================] - 42s 53ms/step - loss: 0.3697 - acc: 0.8641\n"
          ]
        },
        {
          "output_type": "display_data",
          "data": {
            "image/png": "[encoded data removed]",
            "text/plain": [
              "<Figure size 864x288 with 2 Axes>"
            ]
          },
          "metadata": {
            "needs_background": "light"
          }
        }
      ]
    },
    {
      "cell_type": "markdown",
      "metadata": {
        "id": "kDGk2xBxwoc2"
      },
      "source": [
        "##Using LSTM : acc = 0.8707"
      ]
    },
    {
      "cell_type": "code",
      "metadata": {
        "colab": {
          "base_uri": "https://localhost:8080/"
        },
        "id": "gjJ-sj7Kv-KX",
        "outputId": "a4a4be47-cfbc-49c2-c57f-2a2c03ef266b"
      },
      "source": [
        "model = Sequential()\n",
        "model.add(Embedding(max_features, 32))\n",
        "model.add(LSTM(32))\n",
        "model.add(Dense(1, activation='sigmoid'))\n",
        "model.summary()\n",
        "model.compile(optimizer='rmsprop',\n",
        "              loss='binary_crossentropy',\n",
        "              metrics=['acc'])\n",
        "history = model.fit(x_train, y_train,\n",
        "                    epochs=10,\n",
        "                    batch_size=32,\n",
        "                    validation_split=0.2)"
      ],
      "execution_count": null,
      "outputs": [
        {
          "output_type": "stream",
          "name": "stdout",
          "text": [
            "Model: \"sequential_7\"\n",
            "_________________________________________________________________\n",
            "Layer (type)                 Output Shape              Param #   \n",
            "=================================================================\n",
            "embedding_7 (Embedding)      (None, None, 32)          320000    \n",
            "_________________________________________________________________\n",
            "lstm (LSTM)                  (None, 32)                8320      \n",
            "_________________________________________________________________\n",
            "dense_6 (Dense)              (None, 1)                 33        \n",
            "=================================================================\n",
            "Total params: 328,353\n",
            "Trainable params: 328,353\n",
            "Non-trainable params: 0\n",
            "_________________________________________________________________\n",
            "Epoch 1/10\n",
            "625/625 [==============================] - 66s 98ms/step - loss: 0.4353 - acc: 0.8031 - val_loss: 0.3215 - val_acc: 0.8702\n",
            "Epoch 2/10\n",
            "625/625 [==============================] - 61s 97ms/step - loss: 0.2678 - acc: 0.8934 - val_loss: 0.3138 - val_acc: 0.8796\n",
            "Epoch 3/10\n",
            "625/625 [==============================] - 60s 96ms/step - loss: 0.2240 - acc: 0.9160 - val_loss: 0.3712 - val_acc: 0.8668\n",
            "Epoch 4/10\n",
            "625/625 [==============================] - 60s 97ms/step - loss: 0.2006 - acc: 0.9259 - val_loss: 0.2805 - val_acc: 0.8930\n",
            "Epoch 5/10\n",
            "625/625 [==============================] - 60s 97ms/step - loss: 0.1839 - acc: 0.9330 - val_loss: 0.2744 - val_acc: 0.8886\n",
            "Epoch 6/10\n",
            "625/625 [==============================] - 60s 96ms/step - loss: 0.1690 - acc: 0.9384 - val_loss: 0.3380 - val_acc: 0.8752\n",
            "Epoch 7/10\n",
            "625/625 [==============================] - 60s 96ms/step - loss: 0.1581 - acc: 0.9439 - val_loss: 0.3220 - val_acc: 0.8840\n",
            "Epoch 8/10\n",
            "625/625 [==============================] - 61s 97ms/step - loss: 0.1488 - acc: 0.9475 - val_loss: 0.3877 - val_acc: 0.8700\n",
            "Epoch 9/10\n",
            "625/625 [==============================] - 60s 96ms/step - loss: 0.1424 - acc: 0.9499 - val_loss: 0.3468 - val_acc: 0.8794\n",
            "Epoch 10/10\n",
            "625/625 [==============================] - 60s 97ms/step - loss: 0.1346 - acc: 0.9521 - val_loss: 0.3015 - val_acc: 0.8896\n"
          ]
        }
      ]
    },
    {
      "cell_type": "code",
      "metadata": {
        "colab": {
          "base_uri": "https://localhost:8080/",
          "height": 300
        },
        "id": "aAAKZAHEE7ad",
        "outputId": "2fab06b4-c121-46f1-b349-99a2bd87584d"
      },
      "source": [
        "results = model.evaluate(x_test, y_test)\n",
        "graph()"
      ],
      "execution_count": null,
      "outputs": [
        {
          "output_type": "stream",
          "name": "stdout",
          "text": [
            "782/782 [==============================] - 22s 28ms/step - loss: 0.3538 - acc: 0.8707\n"
          ]
        },
        {
          "output_type": "display_data",
          "data": {
            "image/png": "[encoded data removed]",
            "text/plain": [
              "<Figure size 864x288 with 2 Axes>"
            ]
          },
          "metadata": {
            "needs_background": "light"
          }
        }
      ]
    },
    {
      "cell_type": "markdown",
      "metadata": {
        "id": "IVQszaz2GUoP"
      },
      "source": [
        "##Using GRU : acc = 0.8852"
      ]
    },
    {
      "cell_type": "code",
      "metadata": {
        "colab": {
          "base_uri": "https://localhost:8080/"
        },
        "id": "N-9ZfU8GGdFI",
        "outputId": "8afa6be7-052f-4d2d-8bc7-7ae855f3107d"
      },
      "source": [
        "model = Sequential()\n",
        "model.add(Embedding(max_features, 32))\n",
        "model.add(GRU(32))\n",
        "model.add(Dense(1, activation='sigmoid'))\n",
        "model.summary()\n",
        "model.compile(optimizer='rmsprop',\n",
        "              loss='binary_crossentropy',\n",
        "              metrics=['acc'])\n",
        "history = model.fit(x_train, y_train,\n",
        "                    epochs=10,\n",
        "                    batch_size=32,\n",
        "                    validation_split=0.2)"
      ],
      "execution_count": null,
      "outputs": [
        {
          "output_type": "stream",
          "name": "stdout",
          "text": [
            "Model: \"sequential_9\"\n",
            "_________________________________________________________________\n",
            "Layer (type)                 Output Shape              Param #   \n",
            "=================================================================\n",
            "embedding_9 (Embedding)      (None, None, 32)          320000    \n",
            "_________________________________________________________________\n",
            "gru (GRU)                    (None, 32)                6336      \n",
            "_________________________________________________________________\n",
            "dense_7 (Dense)              (None, 1)                 33        \n",
            "=================================================================\n",
            "Total params: 326,369\n",
            "Trainable params: 326,369\n",
            "Non-trainable params: 0\n",
            "_________________________________________________________________\n",
            "Epoch 1/10\n",
            "625/625 [==============================] - 95s 99ms/step - loss: 0.4611 - acc: 0.7724 - val_loss: 0.3409 - val_acc: 0.8570\n",
            "Epoch 2/10\n",
            "625/625 [==============================] - 61s 98ms/step - loss: 0.2909 - acc: 0.8858 - val_loss: 0.2917 - val_acc: 0.8814\n",
            "Epoch 3/10\n",
            "625/625 [==============================] - 61s 98ms/step - loss: 0.2250 - acc: 0.9132 - val_loss: 0.2895 - val_acc: 0.8764\n",
            "Epoch 4/10\n",
            "625/625 [==============================] - 61s 98ms/step - loss: 0.1958 - acc: 0.9262 - val_loss: 0.2583 - val_acc: 0.8952\n",
            "Epoch 5/10\n",
            "625/625 [==============================] - 61s 98ms/step - loss: 0.1702 - acc: 0.9381 - val_loss: 0.2690 - val_acc: 0.8958\n",
            "Epoch 6/10\n",
            "625/625 [==============================] - 61s 98ms/step - loss: 0.1492 - acc: 0.9447 - val_loss: 0.3139 - val_acc: 0.8944\n",
            "Epoch 7/10\n",
            "625/625 [==============================] - 62s 99ms/step - loss: 0.1324 - acc: 0.9536 - val_loss: 0.3028 - val_acc: 0.8942\n",
            "Epoch 8/10\n",
            "625/625 [==============================] - 61s 98ms/step - loss: 0.1174 - acc: 0.9592 - val_loss: 0.2739 - val_acc: 0.9010\n",
            "Epoch 9/10\n",
            "625/625 [==============================] - 61s 98ms/step - loss: 0.1036 - acc: 0.9646 - val_loss: 0.2886 - val_acc: 0.8926\n",
            "Epoch 10/10\n",
            "625/625 [==============================] - 61s 98ms/step - loss: 0.0955 - acc: 0.9671 - val_loss: 0.3041 - val_acc: 0.8950\n"
          ]
        }
      ]
    },
    {
      "cell_type": "code",
      "metadata": {
        "colab": {
          "base_uri": "https://localhost:8080/",
          "height": 300
        },
        "id": "z6I6elBEGz3I",
        "outputId": "68f38b53-5844-46e3-cfe2-e33f303c2a05"
      },
      "source": [
        "results = model.evaluate(x_test, y_test)\n",
        "graph()"
      ],
      "execution_count": null,
      "outputs": [
        {
          "output_type": "stream",
          "name": "stdout",
          "text": [
            "782/782 [==============================] - 23s 29ms/step - loss: 0.3229 - acc: 0.8852\n"
          ]
        },
        {
          "output_type": "display_data",
          "data": {
            "image/png": "[encoded data removed]",
            "text/plain": [
              "<Figure size 864x288 with 2 Axes>"
            ]
          },
          "metadata": {
            "needs_background": "light"
          }
        }
      ]
    },
    {
      "cell_type": "markdown",
      "metadata": {
        "id": "dIq7LEmhG98W"
      },
      "source": [
        "#Reuters dataset"
      ]
    },
    {
      "cell_type": "code",
      "metadata": {
        "colab": {
          "base_uri": "https://localhost:8080/"
        },
        "id": "w6yMO70YHH2X",
        "outputId": "cc95ddc5-0a22-4c97-b2b2-6b5999c7e955"
      },
      "source": [
        "max_features = 10000\n",
        "maxlen = 500\n",
        "\n",
        "(train_data, train_labels), (test_data, test_labels) = reuters.load_data(num_words=max_features)\n",
        "\n",
        "x_train = preprocessing.sequence.pad_sequences(train_data, maxlen=maxlen)\n",
        "x_test = preprocessing.sequence.pad_sequences(test_data, maxlen=maxlen)\n",
        "\n",
        "y_train = to_categorical(train_labels)\n",
        "y_test = to_categorical(test_labels)"
      ],
      "execution_count": null,
      "outputs": [
        {
          "output_type": "stream",
          "name": "stdout",
          "text": [
            "Downloading data from https://storage.googleapis.com/tensorflow/tf-keras-datasets/reuters.npz\n",
            "2113536/2110848 [==============================] - 0s 0us/step\n",
            "2121728/2110848 [==============================] - 0s 0us/step\n"
          ]
        }
      ]
    },
    {
      "cell_type": "markdown",
      "metadata": {
        "id": "GTQ-zqFLgqEF"
      },
      "source": [
        "##Baseline : acc = 0.7867"
      ]
    },
    {
      "cell_type": "code",
      "metadata": {
        "colab": {
          "base_uri": "https://localhost:8080/"
        },
        "id": "2khV40iVMXmb",
        "outputId": "e996d18b-6692-4c55-fdc4-eb1169f74010"
      },
      "source": [
        "model = models.Sequential()\n",
        "model.add(layers.Dense(64, activation='relu', input_shape=(10000,)))\n",
        "model.add(layers.Dense(64, activation='relu'))\n",
        "model.add(layers.Dense(46, activation='softmax'))\n",
        "\n",
        "model.compile(optimizer='rmsprop',\n",
        "              loss='categorical_crossentropy',\n",
        "              metrics=['accuracy'])\n",
        "model.summary()"
      ],
      "execution_count": null,
      "outputs": [
        {
          "output_type": "stream",
          "name": "stdout",
          "text": [
            "Model: \"sequential_36\"\n",
            "_________________________________________________________________\n",
            "Layer (type)                 Output Shape              Param #   \n",
            "=================================================================\n",
            "dense_35 (Dense)             (None, 64)                640064    \n",
            "_________________________________________________________________\n",
            "dense_36 (Dense)             (None, 64)                4160      \n",
            "_________________________________________________________________\n",
            "dense_37 (Dense)             (None, 46)                2990      \n",
            "=================================================================\n",
            "Total params: 647,214\n",
            "Trainable params: 647,214\n",
            "Non-trainable params: 0\n",
            "_________________________________________________________________\n"
          ]
        }
      ]
    },
    {
      "cell_type": "code",
      "metadata": {
        "id": "ZOcNNI7vNRxB"
      },
      "source": [
        "x_val = x_train[:1000]\n",
        "partial_x_train = x_train[1000:]\n",
        "y_val = y_train[:1000]\n",
        "partial_y_train = y_train[1000:]"
      ],
      "execution_count": null,
      "outputs": []
    },
    {
      "cell_type": "code",
      "metadata": {
        "colab": {
          "base_uri": "https://localhost:8080/"
        },
        "id": "EPemxpdyMbYB",
        "outputId": "c5699dcf-595a-4a7e-cf52-5b1e5cfede18"
      },
      "source": [
        "history = model.fit(partial_x_train,\n",
        "                    partial_y_train,\n",
        "                    epochs=20,\n",
        "                    batch_size=512,\n",
        "                    validation_data=(x_val, y_val))"
      ],
      "execution_count": null,
      "outputs": [
        {
          "output_type": "stream",
          "name": "stdout",
          "text": [
            "Epoch 1/20\n",
            "16/16 [==============================] - 1s 32ms/step - loss: 2.7091 - accuracy: 0.5371 - val_loss: 1.7750 - val_accuracy: 0.6390\n",
            "Epoch 2/20\n",
            "16/16 [==============================] - 0s 17ms/step - loss: 1.4420 - accuracy: 0.7033 - val_loss: 1.3331 - val_accuracy: 0.7160\n",
            "Epoch 3/20\n",
            "16/16 [==============================] - 0s 17ms/step - loss: 1.0685 - accuracy: 0.7681 - val_loss: 1.1673 - val_accuracy: 0.7370\n",
            "Epoch 4/20\n",
            "16/16 [==============================] - 0s 17ms/step - loss: 0.8399 - accuracy: 0.8217 - val_loss: 1.0947 - val_accuracy: 0.7490\n",
            "Epoch 5/20\n",
            "16/16 [==============================] - 0s 16ms/step - loss: 0.6755 - accuracy: 0.8557 - val_loss: 0.9941 - val_accuracy: 0.8030\n",
            "Epoch 6/20\n",
            "16/16 [==============================] - 0s 16ms/step - loss: 0.5386 - accuracy: 0.8886 - val_loss: 0.9437 - val_accuracy: 0.8000\n",
            "Epoch 7/20\n",
            "16/16 [==============================] - 0s 18ms/step - loss: 0.4383 - accuracy: 0.9094 - val_loss: 0.8954 - val_accuracy: 0.8070\n",
            "Epoch 8/20\n",
            "16/16 [==============================] - 0s 17ms/step - loss: 0.3555 - accuracy: 0.9262 - val_loss: 0.8965 - val_accuracy: 0.8060\n",
            "Epoch 9/20\n",
            "16/16 [==============================] - 0s 17ms/step - loss: 0.2931 - accuracy: 0.9375 - val_loss: 0.9248 - val_accuracy: 0.7940\n",
            "Epoch 10/20\n",
            "16/16 [==============================] - 0s 18ms/step - loss: 0.2475 - accuracy: 0.9450 - val_loss: 0.9028 - val_accuracy: 0.8140\n",
            "Epoch 11/20\n",
            "16/16 [==============================] - 0s 17ms/step - loss: 0.2182 - accuracy: 0.9465 - val_loss: 0.8840 - val_accuracy: 0.8220\n",
            "Epoch 12/20\n",
            "16/16 [==============================] - 0s 18ms/step - loss: 0.1887 - accuracy: 0.9514 - val_loss: 0.9437 - val_accuracy: 0.8000\n",
            "Epoch 13/20\n",
            "16/16 [==============================] - 0s 17ms/step - loss: 0.1692 - accuracy: 0.9513 - val_loss: 0.9858 - val_accuracy: 0.8030\n",
            "Epoch 14/20\n",
            "16/16 [==============================] - 0s 17ms/step - loss: 0.1577 - accuracy: 0.9546 - val_loss: 0.9594 - val_accuracy: 0.8060\n",
            "Epoch 15/20\n",
            "16/16 [==============================] - 0s 16ms/step - loss: 0.1429 - accuracy: 0.9553 - val_loss: 0.9831 - val_accuracy: 0.8060\n",
            "Epoch 16/20\n",
            "16/16 [==============================] - 0s 17ms/step - loss: 0.1348 - accuracy: 0.9548 - val_loss: 1.0542 - val_accuracy: 0.7970\n",
            "Epoch 17/20\n",
            "16/16 [==============================] - 0s 17ms/step - loss: 0.1276 - accuracy: 0.9573 - val_loss: 1.0097 - val_accuracy: 0.8060\n",
            "Epoch 18/20\n",
            "16/16 [==============================] - 0s 16ms/step - loss: 0.1209 - accuracy: 0.9564 - val_loss: 1.0500 - val_accuracy: 0.8020\n",
            "Epoch 19/20\n",
            "16/16 [==============================] - 0s 17ms/step - loss: 0.1188 - accuracy: 0.9573 - val_loss: 1.0494 - val_accuracy: 0.8110\n",
            "Epoch 20/20\n",
            "16/16 [==============================] - 0s 16ms/step - loss: 0.1186 - accuracy: 0.9560 - val_loss: 1.0360 - val_accuracy: 0.8010\n"
          ]
        }
      ]
    },
    {
      "cell_type": "code",
      "metadata": {
        "colab": {
          "base_uri": "https://localhost:8080/",
          "height": 300
        },
        "id": "fUwmOwJxNNfF",
        "outputId": "c914ea59-c9e6-4163-9a59-c6d163f2a438"
      },
      "source": [
        "results = model.evaluate(x_test, one_hot_test_labels)\n",
        "graph()"
      ],
      "execution_count": null,
      "outputs": [
        {
          "output_type": "stream",
          "name": "stdout",
          "text": [
            "71/71 [==============================] - 0s 4ms/step - loss: 1.2018 - accuracy: 0.7867\n"
          ]
        },
        {
          "output_type": "display_data",
          "data": {
            "image/png": "[encoded data removed]",
            "text/plain": [
              "<Figure size 864x288 with 2 Axes>"
            ]
          },
          "metadata": {
            "needs_background": "light"
          }
        }
      ]
    },
    {
      "cell_type": "markdown",
      "metadata": {
        "id": "A6DFMZ5Vg02u"
      },
      "source": [
        "##Using RNN : acc = 0.4795 "
      ]
    },
    {
      "cell_type": "code",
      "metadata": {
        "colab": {
          "base_uri": "https://localhost:8080/"
        },
        "id": "92T_T0wYXhM9",
        "outputId": "8b1d792f-2937-42ec-9312-5c1a4978fb75"
      },
      "source": [
        "model = models.Sequential()\n",
        "model.add(layers.Embedding(10000, 64))\n",
        "model.add(layers.SimpleRNN(64))\n",
        "model.add(layers.Dense(46, activation='softmax'))\n",
        "\n",
        "model.compile(optimizer='rmsprop',\n",
        "              loss='categorical_crossentropy',\n",
        "              metrics=['accuracy'])\n",
        "model.summary()\n",
        "history = model.fit(x_train, y_train,\n",
        "                    epochs=10,\n",
        "                    batch_size=128,\n",
        "                    validation_split=0.2)"
      ],
      "execution_count": null,
      "outputs": [
        {
          "output_type": "stream",
          "name": "stdout",
          "text": [
            "Model: \"sequential_2\"\n",
            "_________________________________________________________________\n",
            "Layer (type)                 Output Shape              Param #   \n",
            "=================================================================\n",
            "embedding_2 (Embedding)      (None, None, 64)          640000    \n",
            "_________________________________________________________________\n",
            "simple_rnn_1 (SimpleRNN)     (None, 64)                8256      \n",
            "_________________________________________________________________\n",
            "dense_2 (Dense)              (None, 46)                2990      \n",
            "=================================================================\n",
            "Total params: 651,246\n",
            "Trainable params: 651,246\n",
            "Non-trainable params: 0\n",
            "_________________________________________________________________\n",
            "Epoch 1/10\n",
            "57/57 [==============================] - 37s 627ms/step - loss: 2.7577 - accuracy: 0.3365 - val_loss: 2.4075 - val_accuracy: 0.3450\n",
            "Epoch 2/10\n",
            "57/57 [==============================] - 35s 619ms/step - loss: 2.1638 - accuracy: 0.4487 - val_loss: 2.1571 - val_accuracy: 0.4057\n",
            "Epoch 3/10\n",
            "57/57 [==============================] - 35s 613ms/step - loss: 1.8955 - accuracy: 0.5054 - val_loss: 2.0660 - val_accuracy: 0.4374\n",
            "Epoch 4/10\n",
            "57/57 [==============================] - 35s 606ms/step - loss: 1.6774 - accuracy: 0.5601 - val_loss: 2.0086 - val_accuracy: 0.4741\n",
            "Epoch 5/10\n",
            "57/57 [==============================] - 35s 611ms/step - loss: 1.4968 - accuracy: 0.6249 - val_loss: 1.8047 - val_accuracy: 0.5381\n",
            "Epoch 6/10\n",
            "57/57 [==============================] - 34s 598ms/step - loss: 1.2604 - accuracy: 0.6955 - val_loss: 1.8760 - val_accuracy: 0.5303\n",
            "Epoch 7/10\n",
            "57/57 [==============================] - 35s 611ms/step - loss: 1.0534 - accuracy: 0.7503 - val_loss: 1.8862 - val_accuracy: 0.5476\n",
            "Epoch 8/10\n",
            "57/57 [==============================] - 34s 604ms/step - loss: 0.8789 - accuracy: 0.7949 - val_loss: 1.9744 - val_accuracy: 0.5248\n",
            "Epoch 9/10\n",
            "57/57 [==============================] - 35s 617ms/step - loss: 0.7395 - accuracy: 0.8322 - val_loss: 2.0634 - val_accuracy: 0.5047\n",
            "Epoch 10/10\n",
            "57/57 [==============================] - 35s 613ms/step - loss: 0.6150 - accuracy: 0.8696 - val_loss: 2.1233 - val_accuracy: 0.4942\n"
          ]
        }
      ]
    },
    {
      "cell_type": "code",
      "metadata": {
        "colab": {
          "base_uri": "https://localhost:8080/",
          "height": 300
        },
        "id": "hyIcAo9DXyRL",
        "outputId": "dc5cbbc2-1f8c-4333-e58f-5e8da105b682"
      },
      "source": [
        "results = model.evaluate(x_test, y_test)\n",
        "graph()"
      ],
      "execution_count": null,
      "outputs": [
        {
          "output_type": "stream",
          "name": "stdout",
          "text": [
            "71/71 [==============================] - 3s 46ms/step - loss: 2.1717 - accuracy: 0.4795\n"
          ]
        },
        {
          "output_type": "display_data",
          "data": {
            "image/png": "[encoded data removed]",
            "text/plain": [
              "<Figure size 864x288 with 2 Axes>"
            ]
          },
          "metadata": {
            "needs_background": "light"
          }
        }
      ]
    },
    {
      "cell_type": "markdown",
      "metadata": {
        "id": "uaBxOutYhORW"
      },
      "source": [
        "##Using LSTM : acc = 0.6674"
      ]
    },
    {
      "cell_type": "code",
      "metadata": {
        "colab": {
          "base_uri": "https://localhost:8080/"
        },
        "id": "uHJSrxz-fhT0",
        "outputId": "0cfc26d3-ab1c-4969-e02b-52e8a3d1c5b0"
      },
      "source": [
        "model = models.Sequential()\n",
        "model.add(layers.Embedding(10000, 64))\n",
        "model.add(layers.LSTM(64))\n",
        "model.add(layers.Dense(46, activation='softmax'))\n",
        "\n",
        "model.compile(optimizer='rmsprop',\n",
        "              loss='categorical_crossentropy',\n",
        "              metrics=['accuracy'])\n",
        "model.summary()\n",
        "history = model.fit(x_train, y_train,\n",
        "                    epochs=30,\n",
        "                    batch_size=128,\n",
        "                    validation_split=0.2)"
      ],
      "execution_count": null,
      "outputs": [
        {
          "output_type": "stream",
          "name": "stdout",
          "text": [
            "Model: \"sequential_6\"\n",
            "_________________________________________________________________\n",
            "Layer (type)                 Output Shape              Param #   \n",
            "=================================================================\n",
            "embedding_6 (Embedding)      (None, None, 64)          640000    \n",
            "_________________________________________________________________\n",
            "lstm_3 (LSTM)                (None, 64)                33024     \n",
            "_________________________________________________________________\n",
            "dense_6 (Dense)              (None, 46)                2990      \n",
            "=================================================================\n",
            "Total params: 676,014\n",
            "Trainable params: 676,014\n",
            "Non-trainable params: 0\n",
            "_________________________________________________________________\n",
            "Epoch 1/30\n",
            "57/57 [==============================] - 7s 92ms/step - loss: 2.5085 - accuracy: 0.3801 - val_loss: 2.1153 - val_accuracy: 0.4763\n",
            "Epoch 2/30\n",
            "57/57 [==============================] - 4s 78ms/step - loss: 2.0174 - accuracy: 0.4788 - val_loss: 2.0079 - val_accuracy: 0.4775\n",
            "Epoch 3/30\n",
            "57/57 [==============================] - 4s 79ms/step - loss: 1.8424 - accuracy: 0.5116 - val_loss: 1.7755 - val_accuracy: 0.5359\n",
            "Epoch 4/30\n",
            "57/57 [==============================] - 4s 79ms/step - loss: 1.7281 - accuracy: 0.5400 - val_loss: 1.7762 - val_accuracy: 0.5147\n",
            "Epoch 5/30\n",
            "57/57 [==============================] - 4s 78ms/step - loss: 1.6640 - accuracy: 0.5641 - val_loss: 1.7696 - val_accuracy: 0.5253\n",
            "Epoch 6/30\n",
            "57/57 [==============================] - 4s 79ms/step - loss: 1.6244 - accuracy: 0.5743 - val_loss: 1.7855 - val_accuracy: 0.5420\n",
            "Epoch 7/30\n",
            "57/57 [==============================] - 4s 79ms/step - loss: 1.5068 - accuracy: 0.6099 - val_loss: 1.6216 - val_accuracy: 0.6043\n",
            "Epoch 8/30\n",
            "57/57 [==============================] - 4s 79ms/step - loss: 1.4095 - accuracy: 0.6358 - val_loss: 1.9787 - val_accuracy: 0.4763\n",
            "Epoch 9/30\n",
            "57/57 [==============================] - 5s 79ms/step - loss: 1.3246 - accuracy: 0.6621 - val_loss: 1.5529 - val_accuracy: 0.6132\n",
            "Epoch 10/30\n",
            "57/57 [==============================] - 4s 79ms/step - loss: 1.2153 - accuracy: 0.6859 - val_loss: 1.6496 - val_accuracy: 0.5543\n",
            "Epoch 11/30\n",
            "57/57 [==============================] - 4s 79ms/step - loss: 1.1406 - accuracy: 0.7016 - val_loss: 1.3699 - val_accuracy: 0.6611\n",
            "Epoch 12/30\n",
            "57/57 [==============================] - 4s 79ms/step - loss: 1.0542 - accuracy: 0.7222 - val_loss: 1.3485 - val_accuracy: 0.6745\n",
            "Epoch 13/30\n",
            "57/57 [==============================] - 4s 79ms/step - loss: 0.9991 - accuracy: 0.7349 - val_loss: 1.4392 - val_accuracy: 0.6327\n",
            "Epoch 14/30\n",
            "57/57 [==============================] - 5s 80ms/step - loss: 0.9655 - accuracy: 0.7471 - val_loss: 1.3969 - val_accuracy: 0.6589\n",
            "Epoch 15/30\n",
            "57/57 [==============================] - 5s 80ms/step - loss: 0.8773 - accuracy: 0.7708 - val_loss: 1.4042 - val_accuracy: 0.6472\n",
            "Epoch 16/30\n",
            "57/57 [==============================] - 5s 79ms/step - loss: 0.8383 - accuracy: 0.7802 - val_loss: 1.5345 - val_accuracy: 0.6400\n",
            "Epoch 17/30\n",
            "57/57 [==============================] - 4s 79ms/step - loss: 0.7986 - accuracy: 0.7943 - val_loss: 1.5856 - val_accuracy: 0.6689\n",
            "Epoch 18/30\n",
            "57/57 [==============================] - 5s 79ms/step - loss: 0.7482 - accuracy: 0.8028 - val_loss: 1.4908 - val_accuracy: 0.6589\n",
            "Epoch 19/30\n",
            "57/57 [==============================] - 5s 79ms/step - loss: 0.6938 - accuracy: 0.8185 - val_loss: 1.5674 - val_accuracy: 0.6372\n",
            "Epoch 20/30\n",
            "57/57 [==============================] - 4s 79ms/step - loss: 0.6546 - accuracy: 0.8255 - val_loss: 1.4512 - val_accuracy: 0.6745\n",
            "Epoch 21/30\n",
            "57/57 [==============================] - 5s 79ms/step - loss: 0.6301 - accuracy: 0.8369 - val_loss: 1.6546 - val_accuracy: 0.6388\n",
            "Epoch 22/30\n",
            "57/57 [==============================] - 5s 79ms/step - loss: 0.5787 - accuracy: 0.8480 - val_loss: 1.5477 - val_accuracy: 0.6683\n",
            "Epoch 23/30\n",
            "57/57 [==============================] - 4s 79ms/step - loss: 0.5476 - accuracy: 0.8569 - val_loss: 1.7073 - val_accuracy: 0.6299\n",
            "Epoch 24/30\n",
            "57/57 [==============================] - 4s 79ms/step - loss: 0.5145 - accuracy: 0.8665 - val_loss: 1.5266 - val_accuracy: 0.6767\n",
            "Epoch 25/30\n",
            "57/57 [==============================] - 5s 80ms/step - loss: 0.4719 - accuracy: 0.8785 - val_loss: 1.5665 - val_accuracy: 0.6900\n",
            "Epoch 26/30\n",
            "57/57 [==============================] - 5s 80ms/step - loss: 0.4396 - accuracy: 0.8889 - val_loss: 1.6375 - val_accuracy: 0.6822\n",
            "Epoch 27/30\n",
            "57/57 [==============================] - 5s 80ms/step - loss: 0.4215 - accuracy: 0.8927 - val_loss: 1.6838 - val_accuracy: 0.6745\n",
            "Epoch 28/30\n",
            "57/57 [==============================] - 5s 79ms/step - loss: 0.3929 - accuracy: 0.9034 - val_loss: 1.5769 - val_accuracy: 0.6889\n",
            "Epoch 29/30\n",
            "57/57 [==============================] - 4s 79ms/step - loss: 0.3586 - accuracy: 0.9104 - val_loss: 1.6713 - val_accuracy: 0.6800\n",
            "Epoch 30/30\n",
            "57/57 [==============================] - 4s 79ms/step - loss: 0.3475 - accuracy: 0.9125 - val_loss: 1.6015 - val_accuracy: 0.6878\n"
          ]
        }
      ]
    },
    {
      "cell_type": "code",
      "metadata": {
        "colab": {
          "base_uri": "https://localhost:8080/",
          "height": 300
        },
        "id": "m_yptvTGhoUt",
        "outputId": "ba4e7cab-7315-4b2b-8411-3d9f33fae825"
      },
      "source": [
        "results = model.evaluate(x_test, y_test)\n",
        "graph()"
      ],
      "execution_count": null,
      "outputs": [
        {
          "output_type": "stream",
          "name": "stdout",
          "text": [
            "71/71 [==============================] - 2s 34ms/step - loss: 1.7632 - accuracy: 0.6674\n"
          ]
        },
        {
          "output_type": "display_data",
          "data": {
            "image/png": "[encoded data removed]",
            "text/plain": [
              "<Figure size 864x288 with 2 Axes>"
            ]
          },
          "metadata": {
            "needs_background": "light"
          }
        }
      ]
    },
    {
      "cell_type": "markdown",
      "metadata": {
        "id": "tUfu8qClhpNs"
      },
      "source": [
        "##Using GRU : acc = 0.5628"
      ]
    },
    {
      "cell_type": "code",
      "metadata": {
        "colab": {
          "base_uri": "https://localhost:8080/"
        },
        "id": "rfoWpV0rhrhU",
        "outputId": "2a659c7c-45a6-4e4e-9567-102810fa29b1"
      },
      "source": [
        "model = models.Sequential()\n",
        "model.add(layers.Embedding(10000, 64))\n",
        "model.add(layers.GRU(64))\n",
        "model.add(layers.Dense(46, activation='softmax'))\n",
        "\n",
        "model.compile(optimizer='rmsprop',\n",
        "              loss='categorical_crossentropy',\n",
        "              metrics=['accuracy'])\n",
        "model.summary()\n",
        "history = model.fit(x_train, y_train,\n",
        "                    epochs=30,\n",
        "                    batch_size=128,\n",
        "                    validation_split=0.2)"
      ],
      "execution_count": null,
      "outputs": [
        {
          "output_type": "stream",
          "name": "stdout",
          "text": [
            "Model: \"sequential_7\"\n",
            "_________________________________________________________________\n",
            "Layer (type)                 Output Shape              Param #   \n",
            "=================================================================\n",
            "embedding_7 (Embedding)      (None, None, 64)          640000    \n",
            "_________________________________________________________________\n",
            "gru_1 (GRU)                  (None, 64)                24960     \n",
            "_________________________________________________________________\n",
            "dense_7 (Dense)              (None, 46)                2990      \n",
            "=================================================================\n",
            "Total params: 667,950\n",
            "Trainable params: 667,950\n",
            "Non-trainable params: 0\n",
            "_________________________________________________________________\n",
            "Epoch 1/30\n",
            "57/57 [==============================] - 8s 99ms/step - loss: 2.5609 - accuracy: 0.3470 - val_loss: 2.1399 - val_accuracy: 0.3445\n",
            "Epoch 2/30\n",
            "57/57 [==============================] - 5s 83ms/step - loss: 2.0251 - accuracy: 0.3976 - val_loss: 1.9781 - val_accuracy: 0.3656\n",
            "Epoch 3/30\n",
            "57/57 [==============================] - 5s 81ms/step - loss: 1.8473 - accuracy: 0.4836 - val_loss: 1.8410 - val_accuracy: 0.5025\n",
            "Epoch 4/30\n",
            "57/57 [==============================] - 5s 81ms/step - loss: 1.7055 - accuracy: 0.5340 - val_loss: 1.7917 - val_accuracy: 0.5209\n",
            "Epoch 5/30\n",
            "57/57 [==============================] - 5s 80ms/step - loss: 1.6073 - accuracy: 0.5660 - val_loss: 1.6914 - val_accuracy: 0.5698\n",
            "Epoch 6/30\n",
            "57/57 [==============================] - 5s 80ms/step - loss: 1.5209 - accuracy: 0.5908 - val_loss: 1.7094 - val_accuracy: 0.5531\n",
            "Epoch 7/30\n",
            "57/57 [==============================] - 4s 79ms/step - loss: 1.4471 - accuracy: 0.6127 - val_loss: 1.6454 - val_accuracy: 0.5754\n",
            "Epoch 8/30\n",
            "57/57 [==============================] - 4s 79ms/step - loss: 1.3981 - accuracy: 0.6198 - val_loss: 1.6541 - val_accuracy: 0.5643\n",
            "Epoch 9/30\n",
            "57/57 [==============================] - 5s 79ms/step - loss: 1.3414 - accuracy: 0.6392 - val_loss: 1.6387 - val_accuracy: 0.5721\n",
            "Epoch 10/30\n",
            "57/57 [==============================] - 5s 79ms/step - loss: 1.3011 - accuracy: 0.6493 - val_loss: 1.6282 - val_accuracy: 0.5843\n",
            "Epoch 11/30\n",
            "57/57 [==============================] - 4s 79ms/step - loss: 1.2512 - accuracy: 0.6656 - val_loss: 1.6334 - val_accuracy: 0.5737\n",
            "Epoch 12/30\n",
            "57/57 [==============================] - 5s 79ms/step - loss: 1.1871 - accuracy: 0.6785 - val_loss: 1.6068 - val_accuracy: 0.5921\n",
            "Epoch 13/30\n",
            "57/57 [==============================] - 5s 79ms/step - loss: 1.1319 - accuracy: 0.6941 - val_loss: 1.6268 - val_accuracy: 0.5999\n",
            "Epoch 14/30\n",
            "57/57 [==============================] - 4s 79ms/step - loss: 1.0919 - accuracy: 0.7059 - val_loss: 1.7158 - val_accuracy: 0.5737\n",
            "Epoch 15/30\n",
            "57/57 [==============================] - 4s 78ms/step - loss: 1.0438 - accuracy: 0.7186 - val_loss: 1.7733 - val_accuracy: 0.5487\n",
            "Epoch 16/30\n",
            "57/57 [==============================] - 5s 80ms/step - loss: 1.0069 - accuracy: 0.7292 - val_loss: 1.6134 - val_accuracy: 0.6060\n",
            "Epoch 17/30\n",
            "57/57 [==============================] - 4s 79ms/step - loss: 0.9688 - accuracy: 0.7425 - val_loss: 1.6719 - val_accuracy: 0.5838\n",
            "Epoch 18/30\n",
            "57/57 [==============================] - 4s 79ms/step - loss: 0.9498 - accuracy: 0.7436 - val_loss: 1.6906 - val_accuracy: 0.5860\n",
            "Epoch 19/30\n",
            "57/57 [==============================] - 4s 79ms/step - loss: 0.9169 - accuracy: 0.7581 - val_loss: 1.7118 - val_accuracy: 0.5938\n",
            "Epoch 20/30\n",
            "57/57 [==============================] - 4s 79ms/step - loss: 0.8898 - accuracy: 0.7631 - val_loss: 1.7166 - val_accuracy: 0.5899\n",
            "Epoch 21/30\n",
            "57/57 [==============================] - 5s 80ms/step - loss: 0.8634 - accuracy: 0.7680 - val_loss: 1.7330 - val_accuracy: 0.6004\n",
            "Epoch 22/30\n",
            "57/57 [==============================] - 5s 79ms/step - loss: 0.8340 - accuracy: 0.7780 - val_loss: 1.7807 - val_accuracy: 0.5637\n",
            "Epoch 23/30\n",
            "57/57 [==============================] - 5s 79ms/step - loss: 0.8194 - accuracy: 0.7839 - val_loss: 1.7767 - val_accuracy: 0.5854\n",
            "Epoch 24/30\n",
            "57/57 [==============================] - 5s 79ms/step - loss: 0.7921 - accuracy: 0.7933 - val_loss: 1.7714 - val_accuracy: 0.5988\n",
            "Epoch 25/30\n",
            "57/57 [==============================] - 5s 80ms/step - loss: 0.7700 - accuracy: 0.7975 - val_loss: 1.8220 - val_accuracy: 0.5771\n",
            "Epoch 26/30\n",
            "57/57 [==============================] - 4s 79ms/step - loss: 0.7524 - accuracy: 0.8022 - val_loss: 1.7956 - val_accuracy: 0.5899\n",
            "Epoch 27/30\n",
            "57/57 [==============================] - 4s 79ms/step - loss: 0.7281 - accuracy: 0.8153 - val_loss: 1.7970 - val_accuracy: 0.5960\n",
            "Epoch 28/30\n",
            "57/57 [==============================] - 4s 79ms/step - loss: 0.7144 - accuracy: 0.8170 - val_loss: 1.8229 - val_accuracy: 0.5921\n",
            "Epoch 29/30\n",
            "57/57 [==============================] - 4s 79ms/step - loss: 0.6903 - accuracy: 0.8235 - val_loss: 1.8085 - val_accuracy: 0.5999\n",
            "Epoch 30/30\n",
            "57/57 [==============================] - 4s 79ms/step - loss: 0.6781 - accuracy: 0.8255 - val_loss: 1.9592 - val_accuracy: 0.5643\n"
          ]
        }
      ]
    },
    {
      "cell_type": "code",
      "metadata": {
        "colab": {
          "base_uri": "https://localhost:8080/",
          "height": 300
        },
        "id": "HC5kszBAnbb9",
        "outputId": "39ecf676-06ab-4cb2-a9eb-343ceda37ada"
      },
      "source": [
        "results = model.evaluate(x_test, y_test)\n",
        "graph()"
      ],
      "execution_count": null,
      "outputs": [
        {
          "output_type": "stream",
          "name": "stdout",
          "text": [
            "71/71 [==============================] - 2s 31ms/step - loss: 2.0766 - accuracy: 0.5628\n"
          ]
        },
        {
          "output_type": "display_data",
          "data": {
            "image/png": "[encoded data removed]",
            "text/plain": [
              "<Figure size 864x288 with 2 Axes>"
            ]
          },
          "metadata": {
            "needs_background": "light"
          }
        }
      ]
    },
    {
      "cell_type": "markdown",
      "metadata": {
        "id": "2VExeJkuonfx"
      },
      "source": [
        "#Boston dataset"
      ]
    },
    {
      "cell_type": "code",
      "metadata": {
        "id": "vMcdY7a1o3tQ"
      },
      "source": [
        "from keras.datasets import boston_housing\n",
        "\n",
        "(train_data, train_targets), (test_data, test_targets) =  boston_housing.load_data()"
      ],
      "execution_count": null,
      "outputs": []
    },
    {
      "cell_type": "code",
      "metadata": {
        "id": "NmQndc8Do48_"
      },
      "source": [
        "mean = train_data.mean(axis=0)\n",
        "train_data -= mean\n",
        "std = train_data.std(axis=0)\n",
        "train_data /= std\n",
        "test_data -= mean\n",
        "test_data /= std"
      ],
      "execution_count": null,
      "outputs": []
    },
    {
      "cell_type": "markdown",
      "metadata": {
        "id": "WtFxUrHsvb4k"
      },
      "source": [
        "##Baseline : mae - 2.6986"
      ]
    },
    {
      "cell_type": "code",
      "metadata": {
        "id": "KgS9GQBlpRi6"
      },
      "source": [
        "def build_model():\n",
        "    model = models.Sequential()\n",
        "    model.add(layers.Dense(64, activation='relu',\n",
        "                           input_shape=(train_data.shape[1],)))\n",
        "    model.add(layers.Dense(64, activation='relu'))\n",
        "    model.add(layers.Dense(1))\n",
        "    model.compile(optimizer='rmsprop', loss='mse', metrics=['mae'])\n",
        "    return model"
      ],
      "execution_count": null,
      "outputs": []
    },
    {
      "cell_type": "code",
      "metadata": {
        "colab": {
          "base_uri": "https://localhost:8080/"
        },
        "id": "3eZU_GoppUpa",
        "outputId": "95c1992c-3336-48c8-ce65-6a1579ccded2"
      },
      "source": [
        "all_mae_histories = []\n",
        "k= 4\n",
        "num_val_samples = len(train_data) // k \n",
        "num_epochs = 100\n",
        "all_scores = []\n",
        "for i in range(k):\n",
        "    print('processing fold #', i)\n",
        "    val_data = train_data[i * num_val_samples: (i + 1) * num_val_samples]\n",
        "    val_targets = train_targets[i * num_val_samples: (i + 1) * num_val_samples]\n",
        "\n",
        "    partial_train_data = np.concatenate(\n",
        "        [train_data[:i * num_val_samples],\n",
        "         train_data[(i + 1) * num_val_samples:]],\n",
        "        axis=0)\n",
        "    partial_train_targets = np.concatenate(\n",
        "        [train_targets[:i * num_val_samples],\n",
        "         train_targets[(i + 1) * num_val_samples:]], axis=0)\n",
        "\n",
        "    model = build_model()\n",
        "\n",
        "    history = model.fit(partial_train_data, partial_train_targets,\n",
        "                        validation_data=(val_data, val_targets),\n",
        "                        epochs=num_epochs, batch_size=1, verbose=0)\n",
        "    \n",
        "    mae_history = history.history['mae']\n",
        "    all_mae_histories.append(mae_history)"
      ],
      "execution_count": null,
      "outputs": [
        {
          "output_type": "stream",
          "name": "stdout",
          "text": [
            "processing fold # 0\n",
            "processing fold # 1\n",
            "processing fold # 2\n",
            "processing fold # 3\n"
          ]
        }
      ]
    },
    {
      "cell_type": "code",
      "metadata": {
        "colab": {
          "base_uri": "https://localhost:8080/",
          "height": 279
        },
        "id": "OkLQrVDirIA3",
        "outputId": "79f3387e-8e77-48d1-ec8d-a35721f64276"
      },
      "source": [
        "average_mae_history = [\n",
        "    np.mean([x[i] for x in all_mae_histories]) for i in range(num_epochs)]\n",
        "\n",
        "plt.plot(range(1, len(average_mae_history) + 1), average_mae_history)\n",
        "plt.xlabel('Epochs')\n",
        "plt.ylabel('Validation MAE')\n",
        "plt.show()"
      ],
      "execution_count": null,
      "outputs": [
        {
          "output_type": "display_data",
          "data": {
            "image/png": "[encoded data removed]",
            "text/plain": [
              "<Figure size 432x288 with 1 Axes>"
            ]
          },
          "metadata": {
            "needs_background": "light"
          }
        }
      ]
    },
    {
      "cell_type": "code",
      "metadata": {
        "colab": {
          "base_uri": "https://localhost:8080/"
        },
        "id": "dyKIa8rV6sJo",
        "outputId": "8a9aa8fa-6298-4082-e903-1576c304c940"
      },
      "source": [
        "test_mse_score, test_mae_score = model.evaluate(test_data, test_targets)"
      ],
      "execution_count": null,
      "outputs": [
        {
          "output_type": "stream",
          "name": "stdout",
          "text": [
            "4/4 [==============================] - 0s 4ms/step - loss: 16.2916 - mae: 2.6986\n"
          ]
        }
      ]
    },
    {
      "cell_type": "markdown",
      "metadata": {
        "id": "yy4UBCES3h50"
      },
      "source": [
        "##Using RNN : mae - 3.2731"
      ]
    },
    {
      "cell_type": "code",
      "metadata": {
        "id": "pBqd0DNc3txO"
      },
      "source": [
        "def build_model_rnn():\n",
        "    model = models.Sequential()\n",
        "    model.add(layers.SimpleRNN(64))\n",
        "    model.add(layers.Dense(1))\n",
        "    model.compile(optimizer='rmsprop', loss='mse', metrics=['mae'])\n",
        "    return model"
      ],
      "execution_count": null,
      "outputs": []
    },
    {
      "cell_type": "code",
      "metadata": {
        "colab": {
          "base_uri": "https://localhost:8080/"
        },
        "id": "c9UGOIo030IY",
        "outputId": "018af223-1976-4a27-a5e3-3d89736f93ec"
      },
      "source": [
        "k= 4\n",
        "num_val_samples = len(train_data) // k \n",
        "num_epochs = 100\n",
        "all_scores = []\n",
        "for i in range(k):\n",
        "    print('processing fold #', i)\n",
        "    val_data = train_data[i * num_val_samples: (i + 1) * num_val_samples]\n",
        "    val_targets = train_targets[i * num_val_samples: (i + 1) * num_val_samples]\n",
        "\n",
        "    partial_train_data = np.concatenate(\n",
        "        [train_data[:i * num_val_samples],\n",
        "         train_data[(i + 1) * num_val_samples:]],\n",
        "        axis=0)\n",
        "    partial_train_targets = np.concatenate(\n",
        "        [train_targets[:i * num_val_samples],\n",
        "         train_targets[(i + 1) * num_val_samples:]], axis=0)\n",
        "\n",
        "    model = build_model_rnn()\n",
        "\n",
        "    history = model.fit(partial_train_data, partial_train_targets,\n",
        "                        validation_data=(val_data, val_targets),\n",
        "                        epochs=num_epochs, batch_size=1, verbose=0)\n",
        "    \n",
        "    mae_history = history.history['mae']\n",
        "    all_mae_histories.append(mae_history)"
      ],
      "execution_count": null,
      "outputs": [
        {
          "output_type": "stream",
          "name": "stdout",
          "text": [
            "processing fold # 0\n",
            "processing fold # 1\n",
            "processing fold # 2\n",
            "processing fold # 3\n"
          ]
        }
      ]
    },
    {
      "cell_type": "code",
      "metadata": {
        "colab": {
          "base_uri": "https://localhost:8080/"
        },
        "id": "CMAB77uU36N3",
        "outputId": "3be566ae-b7e4-46db-a268-51348d1460cd"
      },
      "source": [
        "test_mse_score, test_mae_score = model.evaluate(test_data, test_targets)"
      ],
      "execution_count": null,
      "outputs": [
        {
          "output_type": "stream",
          "name": "stdout",
          "text": [
            "4/4 [==============================] - 0s 5ms/step - loss: 22.0921 - mae: 3.2731\n"
          ]
        }
      ]
    },
    {
      "cell_type": "markdown",
      "metadata": {
        "id": "JuIcBzDQviEq"
      },
      "source": [
        "##Using LSTM : mae - 2.8579"
      ]
    },
    {
      "cell_type": "code",
      "metadata": {
        "id": "7TptM-rVvlGq"
      },
      "source": [
        "def build_model_lstm():\n",
        "    model = models.Sequential()\n",
        "    model.add(layers.LSTM(64))\n",
        "    model.add(layers.Dense(1))\n",
        "    model.compile(optimizer='rmsprop', loss='mse', metrics=['mae'])\n",
        "    return model"
      ],
      "execution_count": null,
      "outputs": []
    },
    {
      "cell_type": "code",
      "metadata": {
        "id": "AuARxtLDzukA"
      },
      "source": [
        "train_data=train_data.reshape(train_data.shape[0], 1, train_data.shape[1])\n",
        "test_data=test_data.reshape(test_data.shape[0], 1, test_data.shape[1])"
      ],
      "execution_count": null,
      "outputs": []
    },
    {
      "cell_type": "code",
      "metadata": {
        "colab": {
          "base_uri": "https://localhost:8080/"
        },
        "id": "vfLDKasYrveU",
        "outputId": "7a67dbca-401c-41ff-f846-339eb9d02bb2"
      },
      "source": [
        "k= 4\n",
        "num_val_samples = len(train_data) // k \n",
        "num_epochs = 100\n",
        "all_scores = []\n",
        "for i in range(k):\n",
        "    print('processing fold #', i)\n",
        "    val_data = train_data[i * num_val_samples: (i + 1) * num_val_samples]\n",
        "    val_targets = train_targets[i * num_val_samples: (i + 1) * num_val_samples]\n",
        "\n",
        "    partial_train_data = np.concatenate(\n",
        "        [train_data[:i * num_val_samples],\n",
        "         train_data[(i + 1) * num_val_samples:]],\n",
        "        axis=0)\n",
        "    partial_train_targets = np.concatenate(\n",
        "        [train_targets[:i * num_val_samples],\n",
        "         train_targets[(i + 1) * num_val_samples:]], axis=0)\n",
        "\n",
        "    model = build_model_lstm()\n",
        "\n",
        "    history = model.fit(partial_train_data, partial_train_targets,\n",
        "                        validation_data=(val_data, val_targets),\n",
        "                        epochs=num_epochs, batch_size=1, verbose=0)\n",
        "    \n",
        "    mae_history = history.history['mae']\n",
        "    all_mae_histories.append(mae_history)"
      ],
      "execution_count": null,
      "outputs": [
        {
          "output_type": "stream",
          "name": "stdout",
          "text": [
            "processing fold # 0\n",
            "processing fold # 1\n",
            "processing fold # 2\n",
            "processing fold # 3\n"
          ]
        }
      ]
    },
    {
      "cell_type": "code",
      "metadata": {
        "colab": {
          "base_uri": "https://localhost:8080/"
        },
        "id": "BM5Ns6Uo0Inl",
        "outputId": "4938129e-d92c-4968-a074-296b949dd5ae"
      },
      "source": [
        "test_mse_score, test_mae_score = model.evaluate(test_data, test_targets)"
      ],
      "execution_count": null,
      "outputs": [
        {
          "output_type": "stream",
          "name": "stdout",
          "text": [
            "4/4 [==============================] - 1s 5ms/step - loss: 19.1960 - mae: 2.8579\n"
          ]
        }
      ]
    },
    {
      "cell_type": "markdown",
      "metadata": {
        "id": "N2kF-Iae0gV8"
      },
      "source": [
        "##Using GRU : mae - 2.4160"
      ]
    },
    {
      "cell_type": "code",
      "metadata": {
        "id": "_Sv84y3t0Wb3"
      },
      "source": [
        "def build_model_gru():\n",
        "    model = models.Sequential()\n",
        "    model.add(layers.GRU(64))\n",
        "    model.add(layers.Dense(1))\n",
        "    model.compile(optimizer='rmsprop', loss='mse', metrics=['mae'])\n",
        "    return model"
      ],
      "execution_count": null,
      "outputs": []
    },
    {
      "cell_type": "code",
      "metadata": {
        "colab": {
          "base_uri": "https://localhost:8080/"
        },
        "id": "zA_CeBGX2o_K",
        "outputId": "06daca27-6932-435f-a2bf-3458931a175c"
      },
      "source": [
        "k= 4\n",
        "num_val_samples = len(train_data) // k \n",
        "num_epochs = 100\n",
        "all_scores = []\n",
        "for i in range(k):\n",
        "    print('processing fold #', i)\n",
        "    val_data = train_data[i * num_val_samples: (i + 1) * num_val_samples]\n",
        "    val_targets = train_targets[i * num_val_samples: (i + 1) * num_val_samples]\n",
        "\n",
        "    partial_train_data = np.concatenate(\n",
        "        [train_data[:i * num_val_samples],\n",
        "         train_data[(i + 1) * num_val_samples:]],\n",
        "        axis=0)\n",
        "    partial_train_targets = np.concatenate(\n",
        "        [train_targets[:i * num_val_samples],\n",
        "         train_targets[(i + 1) * num_val_samples:]], axis=0)\n",
        "\n",
        "    model = build_model_gru()\n",
        "\n",
        "    history = model.fit(partial_train_data, partial_train_targets,\n",
        "                        validation_data=(val_data, val_targets),\n",
        "                        epochs=num_epochs, batch_size=1, verbose=0)\n",
        "    \n",
        "    mae_history = history.history['mae']\n",
        "    all_mae_histories.append(mae_history)"
      ],
      "execution_count": null,
      "outputs": [
        {
          "output_type": "stream",
          "name": "stdout",
          "text": [
            "processing fold # 0\n",
            "processing fold # 1\n",
            "processing fold # 2\n",
            "processing fold # 3\n"
          ]
        }
      ]
    },
    {
      "cell_type": "code",
      "metadata": {
        "colab": {
          "base_uri": "https://localhost:8080/"
        },
        "id": "N7Ekyxmd2uO4",
        "outputId": "53b85f17-3dc5-4527-c298-6b29e0f4efd9"
      },
      "source": [
        "test_mse_score, test_mae_score = model.evaluate(test_data, test_targets)"
      ],
      "execution_count": null,
      "outputs": [
        {
          "output_type": "stream",
          "name": "stdout",
          "text": [
            "4/4 [==============================] - 1s 5ms/step - loss: 12.4815 - mae: 2.4160\n"
          ]
        }
      ]
    }
  ]
}